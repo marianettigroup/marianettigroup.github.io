{
 "cells": [
  {
   "cell_type": "markdown",
   "metadata": {},
   "source": [
    "# Symmetry analysis of phonon interactions"
   ]
  },
  {
   "cell_type": "code",
   "execution_count": 17,
   "metadata": {},
   "outputs": [],
   "source": [
    "import numpy as np\n",
    "np.set_printoptions(linewidth=180, suppress=True)\n",
    "from principia_materia import Fraction\n",
    "from principia_materia.io_interface import parse_array\n",
    "from principia_materia.translation_group import CrystalFTG\n",
    "from principia_materia.io_interface.qpoints_io import tuple_to_str\n",
    "from principia_materia.phonon_id.little_group_adt import LittleGroupADT\n",
    "from principia_materia.phonon_id.analytic_tensors import AnalyticTensors\n",
    "from principia_materia.phonon_id.chainrule_derivatives import ChainruleDerivatives"
   ]
  },
  {
   "cell_type": "code",
   "execution_count": 2,
   "metadata": {},
   "outputs": [],
   "source": [
    "lattice_vectors = np.array([\n",
    "    [0.0, 0.5, 0.5],\n",
    "    [0.5, 0.0, 0.5],\n",
    "    [0.5, 0.5, 0.0],\n",
    "])\n",
    "atoms = {\n",
    "    \"Na\": np.array([[0.0, 0.0, 0.0]]),\n",
    "    \"Cl\": np.array([[0.5, 0.5, 0.5]]),\n",
    "}\n",
    "supa = np.identity(3, dtype=int)\n",
    "orbitals = \"p\"\n",
    "structure = CrystalFTG(vec=lattice_vectors, atoms=atoms, supa=supa, orbitals=orbitals)"
   ]
  },
  {
   "cell_type": "markdown",
   "metadata": {},
   "source": [
    "## Analytic dynamic tensor\n",
    "\n",
    "Analytic dynamic tensor allows us to perform symmetry analysis of the phonon interactions at a given Q-point, and determine the irreducible derivatives allowed by symmetry and the the coefficients of the tensor elements with respect to the irreducible derivatives. \n",
    "Additionally, the vectorized tensor form facilitates linear operations, making it useful in further analysis."
   ]
  },
  {
   "cell_type": "markdown",
   "metadata": {},
   "source": [
    "## Little group ADT\n",
    "\n",
    "Analytic dynamic tensor with little group symmetry analysis approach.\n"
   ]
  },
  {
   "cell_type": "markdown",
   "metadata": {},
   "source": [
    "1. Second order: ($L_x$, $L_x$)"
   ]
  },
  {
   "cell_type": "code",
   "execution_count": 3,
   "metadata": {},
   "outputs": [
    {
     "data": {
      "text/plain": [
       "[[Fraction(1, 2), Fraction(0, 1), Fraction(0, 1)],\n",
       " [Fraction(1, 2), Fraction(0, 1), Fraction(0, 1)]]"
      ]
     },
     "execution_count": 3,
     "metadata": {},
     "output_type": "execute_result"
    }
   ],
   "source": [
    "Qpoint = parse_array(\"1/2 0 0; 1/2 0 0\", dtype=Fraction)\n",
    "Qpoint"
   ]
  },
  {
   "cell_type": "code",
   "execution_count": 4,
   "metadata": {},
   "outputs": [],
   "source": [
    "lgadt = LittleGroupADT(\n",
    "    structure=structure,\n",
    "    pg=\"Oh\",\n",
    "    Qpoint=Qpoint)\n",
    "lgadt.set_qpoint_displacement_rep()\n",
    "lgadt.set_irreducible_derivatives()\n",
    "lgadt.set_vectorized_tensor()"
   ]
  },
  {
   "cell_type": "code",
   "execution_count": 5,
   "metadata": {},
   "outputs": [
    {
     "data": {
      "text/plain": [
       "[((((Fraction(1, 2), Fraction(0, 1), Fraction(0, 1)), ('A1g', 0)),\n",
       "   ((Fraction(1, 2), Fraction(0, 1), Fraction(0, 1)), ('A1g', 0))),\n",
       "  ('A1g', 0)),\n",
       " ((((Fraction(1, 2), Fraction(0, 1), Fraction(0, 1)), ('Eg', 0)),\n",
       "   ((Fraction(1, 2), Fraction(0, 1), Fraction(0, 1)), ('Eg', 0))),\n",
       "  ('A1g', 0)),\n",
       " ((((Fraction(1, 2), Fraction(0, 1), Fraction(0, 1)), ('A2u', 0)),\n",
       "   ((Fraction(1, 2), Fraction(0, 1), Fraction(0, 1)), ('A2u', 0))),\n",
       "  ('A1g', 0)),\n",
       " ((((Fraction(1, 2), Fraction(0, 1), Fraction(0, 1)), ('Eu', 0)),\n",
       "   ((Fraction(1, 2), Fraction(0, 1), Fraction(0, 1)), ('Eu', 0))),\n",
       "  ('A1g', 0))]"
      ]
     },
     "execution_count": 5,
     "metadata": {},
     "output_type": "execute_result"
    }
   ],
   "source": [
    "lgadt.irreducible_derivative_names"
   ]
  },
  {
   "cell_type": "code",
   "execution_count": 6,
   "metadata": {},
   "outputs": [
    {
     "data": {
      "text/plain": [
       "(6, 6, 4)"
      ]
     },
     "execution_count": 6,
     "metadata": {},
     "output_type": "execute_result"
    }
   ],
   "source": [
    "lgadt.vectorized_tensor.shape"
   ]
  },
  {
   "cell_type": "code",
   "execution_count": 7,
   "metadata": {
    "scrolled": true
   },
   "outputs": [
    {
     "name": "stdout",
     "output_type": "stream",
     "text": [
      "0\n",
      "[[ 0.          0.          0.          0.          0.          0.        ]\n",
      " [ 0.          0.          0.          0.          0.          0.        ]\n",
      " [ 0.          0.          0.          0.          0.          0.        ]\n",
      " [ 0.          0.          0.          0.33333333 -0.33333333 -0.33333333]\n",
      " [ 0.          0.          0.         -0.33333333  0.33333333  0.33333333]\n",
      " [ 0.          0.          0.         -0.33333333  0.33333333  0.33333333]]\n",
      "1\n",
      "[[ 0.          0.          0.          0.          0.          0.        ]\n",
      " [ 0.          0.          0.          0.          0.          0.        ]\n",
      " [ 0.          0.          0.          0.          0.          0.        ]\n",
      " [ 0.          0.          0.          0.66666667  0.33333333  0.33333333]\n",
      " [ 0.          0.          0.          0.33333333  0.66666667 -0.33333333]\n",
      " [ 0.          0.          0.          0.33333333 -0.33333333  0.66666667]]\n",
      "2\n",
      "[[ 0.33333333 -0.33333333 -0.33333333  0.          0.          0.        ]\n",
      " [-0.33333333  0.33333333  0.33333333  0.          0.          0.        ]\n",
      " [-0.33333333  0.33333333  0.33333333  0.          0.          0.        ]\n",
      " [ 0.          0.          0.          0.          0.          0.        ]\n",
      " [ 0.          0.          0.          0.          0.          0.        ]\n",
      " [ 0.          0.          0.          0.          0.          0.        ]]\n",
      "3\n",
      "[[ 0.66666667  0.33333333  0.33333333  0.          0.          0.        ]\n",
      " [ 0.33333333  0.66666667 -0.33333333  0.          0.          0.        ]\n",
      " [ 0.33333333 -0.33333333  0.66666667  0.          0.          0.        ]\n",
      " [ 0.          0.          0.          0.          0.          0.        ]\n",
      " [ 0.          0.          0.          0.          0.          0.        ]\n",
      " [ 0.          0.          0.          0.          0.          0.        ]]\n"
     ]
    }
   ],
   "source": [
    "for i in range(lgadt.n_irreducible_derivatives):\n",
    "    print(i)\n",
    "    print(lgadt.vectorized_tensor[:, :, i].real)"
   ]
  },
  {
   "cell_type": "markdown",
   "metadata": {},
   "source": [
    "2. Third order: ($\\Gamma$, $L_x$, $L_x$)"
   ]
  },
  {
   "cell_type": "code",
   "execution_count": 8,
   "metadata": {},
   "outputs": [
    {
     "data": {
      "text/plain": [
       "[[Fraction(0, 1), Fraction(0, 1), Fraction(0, 1)],\n",
       " [Fraction(1, 2), Fraction(0, 1), Fraction(0, 1)],\n",
       " [Fraction(1, 2), Fraction(0, 1), Fraction(0, 1)]]"
      ]
     },
     "execution_count": 8,
     "metadata": {},
     "output_type": "execute_result"
    }
   ],
   "source": [
    "Qpoint = parse_array(\"0 0 0; 1/2 0 0; 1/2 0 0\", dtype=Fraction)\n",
    "Qpoint"
   ]
  },
  {
   "cell_type": "code",
   "execution_count": 9,
   "metadata": {},
   "outputs": [],
   "source": [
    "lgadt = LittleGroupADT(\n",
    "    structure=structure,\n",
    "    pg=\"Oh\",\n",
    "    Qpoint=Qpoint)\n",
    "lgadt.set_qpoint_displacement_rep()\n",
    "lgadt.set_irreducible_derivatives()\n",
    "lgadt.set_vectorized_tensor()"
   ]
  },
  {
   "cell_type": "code",
   "execution_count": 10,
   "metadata": {
    "scrolled": true
   },
   "outputs": [
    {
     "data": {
      "text/plain": [
       "[((((Fraction(0, 1), Fraction(0, 1), Fraction(0, 1)), ('A2u', 0)),\n",
       "   ((Fraction(1, 2), Fraction(0, 1), Fraction(0, 1)), ('A1g', 0)),\n",
       "   ((Fraction(1, 2), Fraction(0, 1), Fraction(0, 1)), ('A2u', 0))),\n",
       "  ('A1g', 0)),\n",
       " ((((Fraction(0, 1), Fraction(0, 1), Fraction(0, 1)), ('A2u', 0)),\n",
       "   ((Fraction(1, 2), Fraction(0, 1), Fraction(0, 1)), ('Eg', 0)),\n",
       "   ((Fraction(1, 2), Fraction(0, 1), Fraction(0, 1)), ('Eu', 0))),\n",
       "  ('A1g', 0)),\n",
       " ((((Fraction(0, 1), Fraction(0, 1), Fraction(0, 1)), ('Eu', 0)),\n",
       "   ((Fraction(1, 2), Fraction(0, 1), Fraction(0, 1)), ('A1g', 0)),\n",
       "   ((Fraction(1, 2), Fraction(0, 1), Fraction(0, 1)), ('Eu', 0))),\n",
       "  ('A1g', 0)),\n",
       " ((((Fraction(0, 1), Fraction(0, 1), Fraction(0, 1)), ('Eu', 0)),\n",
       "   ((Fraction(1, 2), Fraction(0, 1), Fraction(0, 1)), ('A2u', 0)),\n",
       "   ((Fraction(1, 2), Fraction(0, 1), Fraction(0, 1)), ('Eg', 0))),\n",
       "  ('A1g', 0)),\n",
       " ((((Fraction(0, 1), Fraction(0, 1), Fraction(0, 1)), ('Eu', 0)),\n",
       "   ((Fraction(1, 2), Fraction(0, 1), Fraction(0, 1)), ('Eg', 0)),\n",
       "   ((Fraction(1, 2), Fraction(0, 1), Fraction(0, 1)), ('Eu', 0))),\n",
       "  ('A1g', 0))]"
      ]
     },
     "execution_count": 10,
     "metadata": {},
     "output_type": "execute_result"
    }
   ],
   "source": [
    "lgadt.irreducible_derivative_names"
   ]
  },
  {
   "cell_type": "markdown",
   "metadata": {},
   "source": [
    "## Analytic tensors within a given FTG at a given order\n",
    "\n",
    "For symmetry analysis of the FTG, one would start by constructing analytic dynamic tensors of the irreducible Q-points withith the FTG, and compute for the rest of the brillouin zone by rotating from the corresponding irreducible Q-points."
   ]
  },
  {
   "cell_type": "code",
   "execution_count": 11,
   "metadata": {},
   "outputs": [
    {
     "name": "stdout",
     "output_type": "stream",
     "text": [
      "Computing ADT for Qpoint: ((0, 0, 0), (0, 0, 0))\n",
      "Computing ADT for Qpoint: ((1/2, 0, 0), (1/2, 0, 0))\n",
      "Computing ADT for Qpoint: ((1/2, 1/2, 0), (1/2, 1/2, 0))\n",
      "Summarize irreducible derivatives.\n",
      "Compute vectorized tensors.\n"
     ]
    }
   ],
   "source": [
    "supa = np.diag([2, 2, 2])\n",
    "at = AnalyticTensors(\n",
    "    structure=structure,\n",
    "    supa=supa,\n",
    "    order=2,\n",
    "    pg=\"Oh\",\n",
    ")\n",
    "at.set_ADT(\n",
    "    little_group=True,\n",
    "    verbose=True,\n",
    ")"
   ]
  },
  {
   "cell_type": "code",
   "execution_count": 18,
   "metadata": {
    "scrolled": true
   },
   "outputs": [
    {
     "name": "stdout",
     "output_type": "stream",
     "text": [
      "((((0, 0, 0), (T1u, 0)), ((0, 0, 0), (T1u, 0))), (A1g, 0))\n",
      "((((1/2, 0, 0), (A1g, 0)), ((1/2, 0, 0), (A1g, 0))), (A1g, 0))\n",
      "((((1/2, 0, 0), (Eg, 0)), ((1/2, 0, 0), (Eg, 0))), (A1g, 0))\n",
      "((((1/2, 0, 0), (A2u, 0)), ((1/2, 0, 0), (A2u, 0))), (A1g, 0))\n",
      "((((1/2, 0, 0), (Eu, 0)), ((1/2, 0, 0), (Eu, 0))), (A1g, 0))\n",
      "((((1/2, 1/2, 0), (A2u, 0)), ((1/2, 1/2, 0), (A2u, 0))), (A1g, 0))\n",
      "((((1/2, 1/2, 0), (A2u, 0)), ((1/2, 1/2, 0), (A2u, 1))), (A1g, 0))\n",
      "((((1/2, 1/2, 0), (A2u, 1)), ((1/2, 1/2, 0), (A2u, 1))), (A1g, 0))\n",
      "((((1/2, 1/2, 0), (Eu, 0)), ((1/2, 1/2, 0), (Eu, 0))), (A1g, 0))\n",
      "((((1/2, 1/2, 0), (Eu, 0)), ((1/2, 1/2, 0), (Eu, 1))), (A1g, 0))\n",
      "((((1/2, 1/2, 0), (Eu, 1)), ((1/2, 1/2, 0), (Eu, 1))), (A1g, 0))\n"
     ]
    }
   ],
   "source": [
    "for irreducible_derivative in at.irreducible_derivative_names:\n",
    "    print(tuple_to_str(irreducible_derivative))"
   ]
  },
  {
   "cell_type": "markdown",
   "metadata": {},
   "source": [
    "## Chainrule derivatives\n",
    "\n",
    "With the analytic tensors of the FTG, we are able to perform further analysis on phonon interactions.\n",
    "One of them is using chainrule derivatives to compute the transformation matrices for abitrary displacements for BID approach."
   ]
  },
  {
   "cell_type": "code",
   "execution_count": 19,
   "metadata": {},
   "outputs": [
    {
     "name": "stdout",
     "output_type": "stream",
     "text": [
      "Computing ADT for Qpoint: ((0, 0, 0), (0, 0, 0))\n",
      "Computing ADT for Qpoint: ((1/2, 1/2, 0), (1/2, 1/2, 0))\n",
      "Summarize irreducible derivatives.\n",
      "Compute vectorized tensors.\n"
     ]
    }
   ],
   "source": [
    "supa = np.ones((3, 3), dtype=int) - 2 * np.identity(3, dtype=int)\n",
    "chainrule =  ChainruleDerivatives(\n",
    "    structure=structure,\n",
    "    supa=supa,\n",
    "    order=2,\n",
    "    pg='Oh')\n",
    "chainrule.set_ADT(verbose=True)\n",
    "chainrule.set_basis()"
   ]
  },
  {
   "cell_type": "code",
   "execution_count": 20,
   "metadata": {},
   "outputs": [],
   "source": [
    "displacements = np.zeros((1, chainrule.order - 1, chainrule.supercell.natoms, chainrule.supercell.dim))\n",
    "displacements[0, 0, 0, 0] = 1"
   ]
  },
  {
   "cell_type": "code",
   "execution_count": 21,
   "metadata": {},
   "outputs": [],
   "source": [
    "matrix = chainrule.compute_chainrule(displacements)"
   ]
  },
  {
   "cell_type": "code",
   "execution_count": 22,
   "metadata": {},
   "outputs": [
    {
     "data": {
      "text/plain": [
       "array([[ 0.25,  0.  ,  0.  ,  0.  ,  0.  ,  0.  ,  0.  ],\n",
       "       [-0.  ,  0.  ,  0.  ,  0.  ,  0.  ,  0.  ,  0.  ],\n",
       "       [ 0.  ,  0.  ,  0.  ,  0.  ,  0.  ,  0.  ,  0.  ],\n",
       "       [-0.25,  0.  ,  0.  ,  0.  ,  0.  ,  0.  ,  0.  ],\n",
       "       [ 0.  ,  0.  ,  0.  ,  0.  ,  0.  ,  0.  ,  0.  ],\n",
       "       [-0.  ,  0.  ,  0.  ,  0.  ,  0.  ,  0.  ,  0.  ],\n",
       "       [ 0.  ,  0.  ,  0.  ,  0.  ,  0.5 , -0.  ,  0.  ],\n",
       "       [ 0.  ,  0.  ,  0.  ,  0.  , -0.  ,  0.  ,  0.  ],\n",
       "       [ 0.  , -0.  ,  0.  ,  0.  ,  0.  ,  0.  ,  0.  ],\n",
       "       [ 0.  ,  0.  ,  0.  ,  0.  ,  0.  ,  0.5 , -0.  ],\n",
       "       [ 0.  ,  0.  ,  0.  ,  0.  ,  0.  , -0.  ,  0.  ],\n",
       "       [ 0.  ,  0.  , -0.  ,  0.  ,  0.  ,  0.  ,  0.  ],\n",
       "       [ 0.  ,  0.  ,  0.  ,  0.  ,  0.5 ,  0.  ,  0.  ],\n",
       "       [ 0.  , -0.  , -0.  ,  0.  ,  0.  ,  0.  ,  0.  ],\n",
       "       [ 0.  ,  0.  ,  0.  ,  0.  , -0.  ,  0.  ,  0.  ],\n",
       "       [ 0.  ,  0.  ,  0.  ,  0.  ,  0.  ,  0.5 ,  0.  ],\n",
       "       [ 0.  ,  0.  , -0.  , -0.  ,  0.  ,  0.  ,  0.  ],\n",
       "       [ 0.  ,  0.  ,  0.  ,  0.  ,  0.  , -0.  ,  0.  ],\n",
       "       [ 0.  ,  0.5 ,  0.  ,  0.  ,  0.  ,  0.  ,  0.  ],\n",
       "       [ 0.  ,  0.  ,  0.  ,  0.  , -0.  ,  0.  ,  0.  ],\n",
       "       [ 0.  ,  0.  ,  0.  ,  0.  , -0.  , -0.  ,  0.  ],\n",
       "       [ 0.  ,  0.  ,  0.5 ,  0.  ,  0.  ,  0.  ,  0.  ],\n",
       "       [ 0.  ,  0.  ,  0.  ,  0.  ,  0.  , -0.  ,  0.  ],\n",
       "       [ 0.  ,  0.  ,  0.  ,  0.  ,  0.  , -0.  , -0.  ]])"
      ]
     },
     "execution_count": 22,
     "metadata": {},
     "output_type": "execute_result"
    }
   ],
   "source": [
    "matrix.reshape((-1, chainrule.n_irreducible_derivatives)).real"
   ]
  }
 ],
 "metadata": {
  "kernelspec": {
   "display_name": "Python 3 (ipykernel)",
   "language": "python",
   "name": "python3"
  },
  "language_info": {
   "codemirror_mode": {
    "name": "ipython",
    "version": 3
   },
   "file_extension": ".py",
   "mimetype": "text/x-python",
   "name": "python",
   "nbconvert_exporter": "python",
   "pygments_lexer": "ipython3",
   "version": "3.9.5"
  }
 },
 "nbformat": 4,
 "nbformat_minor": 4
}
