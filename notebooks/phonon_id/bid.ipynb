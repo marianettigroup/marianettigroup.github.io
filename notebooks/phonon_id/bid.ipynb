{
 "cells": [
  {
   "cell_type": "markdown",
   "id": "a593edc9",
   "metadata": {},
   "source": [
    "# Bundled Irreducible Derivatives (BID) Approach\n",
    "\n",
    "\n",
    "Here we demonstrate computing phonon of rocksalt with a FTG of 2$\\hat{1}$, using both BID and HS-BID approaches.\n",
    "\n",
    "In BID approach, phonons and interactions are computed in the supercell of the FTG.\n",
    "The chainrule derivatives analysis is used to find the minimum amount of measurements needed to solve for the irreducible derivatives."
   ]
  },
  {
   "cell_type": "code",
   "execution_count": 1,
   "id": "ea3a7a31",
   "metadata": {
    "scrolled": true
   },
   "outputs": [],
   "source": [
    "import numpy as np\n",
    "\n",
    "from principia_materia.io_interface.qpoints_io import tuple_to_str\n",
    "from principia_materia.io_interface.vasp import parse_poscar\n",
    "from principia_materia.io_interface.jobs_db import JobsDB\n",
    "from principia_materia.translation_group import (\n",
    "    get_structure,\n",
    "    CrystalFTG,\n",
    "    save_structure,\n",
    "    )\n",
    "from principia_materia.phonon_id.bid import BID\n",
    "from principia_materia.phonon_id.hsbid import HSBID"
   ]
  },
  {
   "cell_type": "code",
   "execution_count": 2,
   "id": "a84a986b",
   "metadata": {
    "scrolled": true
   },
   "outputs": [],
   "source": [
    "POSCAR = \"./nacl_hsbid/POSCAR\"\n",
    "\n",
    "ORDER = 2\n",
    "PG = \"Oh\"\n",
    "MESH = np.diag([2, 2, 2])\n",
    "DELTA = np.arange(0.02, 0.21, 0.02)\n",
    "\n",
    "COMPUTE_ENGINE = \"vasp\"\n",
    "\n",
    "ROOT_DIR = \".\""
   ]
  },
  {
   "cell_type": "code",
   "execution_count": 3,
   "id": "03265cb7",
   "metadata": {
    "scrolled": true
   },
   "outputs": [],
   "source": [
    "structure = get_structure(parse_poscar(POSCAR), stype=CrystalFTG)\n",
    "structure.orbitals = \"p\""
   ]
  },
  {
   "cell_type": "code",
   "execution_count": 4,
   "id": "655e891f",
   "metadata": {
    "scrolled": true
   },
   "outputs": [],
   "source": [
    "job_handler= JobsDB(\n",
    "  structure=structure,\n",
    "  root_directory=ROOT_DIR,\n",
    "  db_path=\"nacl_hsbid/database.db\",\n",
    "  db_type=\"sqlite\",\n",
    "  )\n",
    "\n",
    "job_handler.set_table(\"bid_phonon\")"
   ]
  },
  {
   "cell_type": "code",
   "execution_count": 5,
   "id": "72a417c6",
   "metadata": {
    "scrolled": true
   },
   "outputs": [
    {
     "name": "stdout",
     "output_type": "stream",
     "text": [
      "Computing ADT for Qpoint: ((0, 0, 0), (0, 0, 0))\n",
      "Computing ADT for Qpoint: ((1/2, 0, 0), (1/2, 0, 0))\n",
      "Computing ADT for Qpoint: ((1/2, 1/2, 0), (1/2, 1/2, 0))\n",
      "Summarize irreducible derivatives.\n",
      "Compute vectorized tensors.\n",
      "Number of unknowns:  11\n",
      "Rank of single measurements:  11\n",
      "Estimated number of measurements:  1\n"
     ]
    }
   ],
   "source": [
    "bid = BID(\n",
    "  structure=structure,\n",
    "  supa=MESH,\n",
    "  order=ORDER,\n",
    "  pg=PG,\n",
    "  )\n",
    "bid.set_chainrule_derivatives(verbose=True)\n",
    "bid._set_displacement_generator()\n",
    "bid.find_measurements(verbose=True)"
   ]
  },
  {
   "cell_type": "code",
   "execution_count": 6,
   "id": "739c07b0",
   "metadata": {
    "scrolled": true
   },
   "outputs": [],
   "source": [
    "bid.create_jobs(\n",
    "    job_handler=job_handler,\n",
    "    deltas=DELTA,\n",
    "    append=True,\n",
    "    dry_run=True,\n",
    "    )"
   ]
  },
  {
   "cell_type": "markdown",
   "id": "f27fab2d",
   "metadata": {},
   "source": [
    "# Hierarchical Supercell BID Approach\n",
    "\n",
    "In HS-BID approach, the minimum amount of subcells of the FTG are found to satisfy that every irreducible derivative can be computed in the smallest possible supercell.\n",
    "Then for these subcells, chainrule derivatives analysis is used to find the minimum measurements to solve for irreducible derivatives."
   ]
  },
  {
   "cell_type": "code",
   "execution_count": 7,
   "id": "ee656dd0",
   "metadata": {
    "scrolled": true
   },
   "outputs": [
    {
     "name": "stdout",
     "output_type": "stream",
     "text": [
      "Computing ADT for Qpoint: ((0, 0, 0), (0, 0, 0))\n",
      "Computing ADT for Qpoint: ((1/2, 0, 0), (1/2, 0, 0))\n",
      "Computing ADT for Qpoint: ((1/2, 1/2, 0), (1/2, 1/2, 0))\n",
      "Summarize irreducible derivatives.\n",
      "Compute vectorized tensors.\n",
      "Find measurements for supercell # 0\n",
      "Number of unknowns:  1\n",
      "Rank of single measurements:  1\n",
      "Estimated number of measurements:  1\n",
      "Find measurements for supercell # 1\n",
      "Number of unknowns:  4\n",
      "Rank of single measurements:  4\n",
      "Estimated number of measurements:  1\n",
      "Find measurements for supercell # 2\n",
      "Number of unknowns:  6\n",
      "Rank of single measurements:  5\n",
      "Estimated number of measurements:  2\n"
     ]
    }
   ],
   "source": [
    "hsbid = HSBID(\n",
    "  structure=structure,\n",
    "  supa=MESH,\n",
    "  order=ORDER,\n",
    "  pg=PG,\n",
    "  )\n",
    "hsbid.set_chainrule_derivatives(verbose=True)\n",
    "hsbid.set_hsbid()\n",
    "hsbid.find_measurements(verbose=True)"
   ]
  },
  {
   "cell_type": "code",
   "execution_count": 8,
   "id": "4d7ac0cc",
   "metadata": {
    "scrolled": true
   },
   "outputs": [],
   "source": [
    "hsbid.create_jobs(\n",
    "    job_handler=job_handler,\n",
    "    deltas=DELTA,\n",
    "    append=True,\n",
    "    dry_run=True,\n",
    "    )"
   ]
  },
  {
   "cell_type": "code",
   "execution_count": 9,
   "id": "169dcf9c",
   "metadata": {
    "scrolled": true
   },
   "outputs": [],
   "source": [
    "hsbid.set_results(\n",
    "    job_handler=job_handler,\n",
    "    data_type=\"forces\",\n",
    "    )"
   ]
  },
  {
   "cell_type": "code",
   "execution_count": 10,
   "id": "35375b0f",
   "metadata": {
    "scrolled": true
   },
   "outputs": [],
   "source": [
    "hsbid.set_errortail_results(\n",
    "    pick_min=3,\n",
    "    pick_max=5,\n",
    "    seperate_complex=True,\n",
    "    #  output=\"out_errortail.h5\",\n",
    "    )"
   ]
  },
  {
   "cell_type": "code",
   "execution_count": 11,
   "id": "a24fd987",
   "metadata": {
    "scrolled": true
   },
   "outputs": [],
   "source": [
    "hsbid.compute_irreducible_derivatives()"
   ]
  },
  {
   "cell_type": "code",
   "execution_count": 12,
   "id": "1b862c24",
   "metadata": {
    "scrolled": true
   },
   "outputs": [],
   "source": [
    "dynamic_tensors = hsbid.get_dynamic_tensors()"
   ]
  },
  {
   "cell_type": "code",
   "execution_count": 13,
   "id": "e09663cf",
   "metadata": {
    "scrolled": false
   },
   "outputs": [
    {
     "name": "stdout",
     "output_type": "stream",
     "text": [
      "((0, 0, 0), (0, 0, 0))\n",
      "[[ 1.2163185  0.         0.        -1.2163185  0.         0.       ]\n",
      " [ 0.         1.2163185  0.         0.        -1.2163185  0.       ]\n",
      " [ 0.         0.         1.2163185  0.         0.        -1.2163185]\n",
      " [-1.2163185  0.         0.         1.2163185  0.         0.       ]\n",
      " [ 0.        -1.2163185  0.         0.         1.2163185  0.       ]\n",
      " [ 0.         0.        -1.2163185  0.         0.         1.2163185]]\n",
      "\n",
      "((1/2, 0, 0), (1/2, 0, 0))\n",
      "[[ 2.18264725 -0.80163822 -0.80163822  0.          0.          0.        ]\n",
      " [-0.80163822  2.18264725  0.80163822  0.          0.          0.        ]\n",
      " [-0.80163822  0.80163822  2.18264725  0.          0.          0.        ]\n",
      " [ 0.          0.          0.          2.30057778 -0.76845191 -0.76845191]\n",
      " [ 0.          0.          0.         -0.76845191  2.30057778  0.76845191]\n",
      " [ 0.          0.          0.         -0.76845191  0.76845191  2.30057778]]\n",
      "\n",
      "((1/2, 1/2, 0), (1/2, 1/2, 0))\n",
      "[[ 1.47854869  0.          0.          1.0212613   0.          0.        ]\n",
      " [ 0.          1.47854869  0.          0.          1.0212613   0.        ]\n",
      " [ 0.          0.          1.99804315  0.          0.         -0.59932048]\n",
      " [ 1.0212613   0.          0.          2.09450795  0.          0.        ]\n",
      " [ 0.          1.0212613   0.          0.          2.09450795  0.        ]\n",
      " [ 0.          0.         -0.59932048  0.          0.          3.44972342]]\n",
      "\n"
     ]
    }
   ],
   "source": [
    "for i in range(len(hsbid._chainrule.QpointsN.irreducible_Qpoints)):\n",
    "    print(tuple_to_str(hsbid._chainrule.QpointsN.irreducible_Qpoints[i]))\n",
    "    print(dynamic_tensors[hsbid._chainrule.QpointsN.irreducible_Qpoints_Qind].real[i])\n",
    "    print()"
   ]
  },
  {
   "cell_type": "markdown",
   "id": "f997e865",
   "metadata": {},
   "source": [
    "## Comparison between HS-BID and LID of Phonon and DOS of NaCl with FTG 4$\\hat{1}$ including LO-TO splitting\n",
    "\n",
    "![Phonon and DOS of NaCl](nacl_hsbid/figure.pdf)"
   ]
  }
 ],
 "metadata": {
  "kernelspec": {
   "display_name": "Python 3 (ipykernel)",
   "language": "python",
   "name": "python3"
  },
  "language_info": {
   "codemirror_mode": {
    "name": "ipython",
    "version": 3
   },
   "file_extension": ".py",
   "mimetype": "text/x-python",
   "name": "python",
   "nbconvert_exporter": "python",
   "pygments_lexer": "ipython3",
   "version": "3.9.5"
  }
 },
 "nbformat": 4,
 "nbformat_minor": 5
}
