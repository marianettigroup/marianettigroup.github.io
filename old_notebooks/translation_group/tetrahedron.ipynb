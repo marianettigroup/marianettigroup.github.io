{
 "cells": [
  {
   "cell_type": "markdown",
   "metadata": {},
   "source": [
    "# Tetrahedron method\n",
    "\n",
    "\n",
    "Tetrahedron method is wildly used for integration in Brillouin zone.\n",
    "\n",
    "There are 2 different tetrahedron methods implemented in the package, \n",
    "one for integrating delta functions, which is used for DOS or phonon linewidth,\n",
    "the other for integrating generic functions, used in phonon frequency shift.\n",
    "\n",
    "1. [P. E. Blöchl, O. Jepsen, and O. K. Andersen, Phys. Rev. B 49, 16223 (1994)](https://doi.org/10.1103/PhysRevB.49.16223)\n",
    "\n",
    "2. [S.Kaprzyk, Comp. Phys. Comm. 183, 2, 347 (2012)](https://doi.org/10.1016/j.cpc.2011.08.022)\n",
    "\n",
    "For a give submesh, the tetrahedra is shown below.\n",
    "The integration method is independent of the geometry of the crystal, the integration result of each tetrahedron is sole determined by the function values at each of the four vertices."
   ]
  },
  {
   "cell_type": "markdown",
   "metadata": {},
   "source": [
    "![cube](illustration/cube.pdf)"
   ]
  },
  {
   "cell_type": "markdown",
   "metadata": {},
   "source": [
    "![tetrahedron](illustration/tetrahedron.pdf)"
   ]
  },
  {
   "cell_type": "markdown",
   "metadata": {},
   "source": [
    "In this module, the tetrahedron method consists of following steps:\n",
    "\n",
    "1.  With the given integration mesh, determine all the tetrahedra within the mesh. \n",
    "    This part of the code is derived from the Kpoints class, thus symmetry can be used \n",
    "    to map the kpoints of the tetrahedra into the irreducible Brillouin zone.\n",
    "    \n",
    "2.  For each tetrahedron, compute the integration weight of each k-points or irreducible k-points,\n",
    "    and sum up the weights by k-points.\n",
    "    \n",
    "3.  Compute the integration with the function values at each k-points and the integration weight."
   ]
  }
 ],
 "metadata": {
  "kernelspec": {
   "display_name": "Python 3 (ipykernel)",
   "language": "python",
   "name": "python3"
  },
  "language_info": {
   "codemirror_mode": {
    "name": "ipython",
    "version": 3
   },
   "file_extension": ".py",
   "mimetype": "text/x-python",
   "name": "python",
   "nbconvert_exporter": "python",
   "pygments_lexer": "ipython3",
   "version": "3.8.8"
  }
 },
 "nbformat": 4,
 "nbformat_minor": 4
}
