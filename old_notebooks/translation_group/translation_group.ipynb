{
 "cells": [
  {
   "cell_type": "markdown",
   "metadata": {},
   "source": [
    "# Translation Group\n",
    "\n",
    "\n",
    "In this submodule, we build up all the pieces of translation group, from a cluster and a lattice to primitive crystal and its supercell. This allows us to extract critical information of the structures, manipulate them, and study the electron and vibrational properties of them. "
   ]
  },
  {
   "cell_type": "code",
   "execution_count": 1,
   "metadata": {},
   "outputs": [],
   "source": [
    "import numpy as np\n",
    "np.set_printoptions(linewidth=180, suppress=True)"
   ]
  },
  {
   "cell_type": "markdown",
   "metadata": {},
   "source": [
    "## Cluster\n",
    "\n",
    "We begin with a cluster which consists of a collection of atoms in arranged positions.\n",
    "\n",
    "For example, we can create a square of H atoms by providing the atom positions and orbitals:"
   ]
  },
  {
   "cell_type": "code",
   "execution_count": 2,
   "metadata": {},
   "outputs": [],
   "source": [
    "from principia_materia.translation_group import Cluster\n",
    "from principia_materia.symmetry import PointGroup"
   ]
  },
  {
   "cell_type": "code",
   "execution_count": 3,
   "metadata": {},
   "outputs": [
    {
     "data": {
      "text/plain": [
       "<principia_materia.translation_group.cluster.Cluster at 0x7f9ebf36e250>"
      ]
     },
     "execution_count": 3,
     "metadata": {},
     "output_type": "execute_result"
    }
   ],
   "source": [
    "square = Cluster(atoms={\n",
    "    \"H\": [\n",
    "        [ 1,  1],\n",
    "        [ 1, -1],\n",
    "        [-1,  1],\n",
    "        [-1, -1],\n",
    "    ]\n",
    "}, orbitals=\"s\")\n",
    "square"
   ]
  },
  {
   "cell_type": "code",
   "execution_count": 4,
   "metadata": {},
   "outputs": [
    {
     "data": {
      "text/plain": [
       "[(0, 's'), (1, 's'), (2, 's'), (3, 's')]"
      ]
     },
     "execution_count": 4,
     "metadata": {},
     "output_type": "execute_result"
    }
   ],
   "source": [
    "square.orbitals"
   ]
  },
  {
   "cell_type": "markdown",
   "metadata": {},
   "source": [
    "The cluster is centered at the origin."
   ]
  },
  {
   "cell_type": "code",
   "execution_count": 5,
   "metadata": {
    "scrolled": true
   },
   "outputs": [
    {
     "data": {
      "text/plain": [
       "array([0., 0.])"
      ]
     },
     "execution_count": 5,
     "metadata": {},
     "output_type": "execute_result"
    }
   ],
   "source": [
    "square.center"
   ]
  },
  {
   "cell_type": "markdown",
   "metadata": {},
   "source": [
    "We can rotate the cluster using the point operators in the C4v point group. The atoms will be rotated into each other's spots but the entire cluster remains invariant.\n",
    "This will be used to construct representations of a cluster."
   ]
  },
  {
   "cell_type": "code",
   "execution_count": 6,
   "metadata": {},
   "outputs": [],
   "source": [
    "pg = PointGroup(\"C4v\")"
   ]
  },
  {
   "cell_type": "code",
   "execution_count": 7,
   "metadata": {
    "scrolled": true
   },
   "outputs": [
    {
     "data": {
      "text/plain": [
       "array([[ 1., -1.],\n",
       "       [-1., -1.],\n",
       "       [ 1.,  1.],\n",
       "       [-1.,  1.]])"
      ]
     },
     "execution_count": 7,
     "metadata": {},
     "output_type": "execute_result"
    }
   ],
   "source": [
    "square.rotate_atoms(pg.G[\"c4z\"][:2, :][:, :2])"
   ]
  },
  {
   "cell_type": "markdown",
   "metadata": {},
   "source": [
    "## Lattice\n",
    "\n",
    "The `Lattice` class contains only the lattice vectors and optionaly the point group of the lattice.\n",
    "The class mainly serves as an abstract class to build into more complex structures.\n",
    "But it contain all the key properties of a lattice, including the volume of the unit lattice, lengths and angels of the latiice vectors, reciprocal lattice, etc. Conversion between lattice basis and cartesian basis can also be done using the methods `lattice_to_cartesian` and `cartesian_to_lattice`. "
   ]
  },
  {
   "cell_type": "code",
   "execution_count": 8,
   "metadata": {},
   "outputs": [],
   "source": [
    "from principia_materia.translation_group import Lattice"
   ]
  },
  {
   "cell_type": "code",
   "execution_count": 9,
   "metadata": {},
   "outputs": [],
   "source": [
    "lattice = Lattice(vec=np.array([\n",
    "    [0.0, 0.5, 0.5],\n",
    "    [0.5, 0.0, 0.5],\n",
    "    [0.5, 0.5, 0.0],\n",
    "]))"
   ]
  },
  {
   "cell_type": "code",
   "execution_count": 10,
   "metadata": {},
   "outputs": [
    {
     "data": {
      "text/plain": [
       "array([0.25, 0.25, 0.5 ])"
      ]
     },
     "execution_count": 10,
     "metadata": {},
     "output_type": "execute_result"
    }
   ],
   "source": [
    "lattice.lattice_to_cartesian([0.5, 0.5, 0])"
   ]
  },
  {
   "cell_type": "markdown",
   "metadata": {},
   "source": [
    "## LatticeFTG\n",
    "\n",
    "Derived from `Lattice`, `LatticeFTG` explores properties of a superlattice with a supercell matrix.\n",
    "It finds the lattice points that fit in the given supercell.\n",
    "If point group is provided, irreducible lattice points and the rotational mapping of the lattice points will be found.\n",
    "\n",
    "\n",
    "### The algorithm to find lattice points fit in the supercell\n",
    "Algorithm used in finding the lattice points in the superlattice is described in Appendix D of paper: PHYSICAL REVIEW B 100, 014303 (2019). \n",
    "It is the mathamatically optimal algorithm to find these points, with $\\mathcal{O}(n)$ time complexity. \n",
    "Meanwhile, it is also possible to assign and compute the index of each found point in $\\mathcal{O}(1)$ time complexity.\n",
    "This makes non-diagonal supercells as efficient to work with as diagonal supercells."
   ]
  },
  {
   "cell_type": "code",
   "execution_count": 11,
   "metadata": {},
   "outputs": [],
   "source": [
    "from principia_materia.translation_group import LatticeFTG"
   ]
  },
  {
   "cell_type": "code",
   "execution_count": 12,
   "metadata": {},
   "outputs": [],
   "source": [
    "superlattice = LatticeFTG(vec=np.array([\n",
    "    [0.0, 0.5, 0.5],\n",
    "    [0.5, 0.0, 0.5],\n",
    "    [0.5, 0.5, 0.0],\n",
    "]),\n",
    "  supa=np.array([\n",
    "      [-1, 1, 1],\n",
    "      [1, -1, 1],\n",
    "      [1, 1, -1],\n",
    "]),\n",
    "  pg=\"Oh\",\n",
    ")"
   ]
  },
  {
   "cell_type": "code",
   "execution_count": 13,
   "metadata": {
    "scrolled": true
   },
   "outputs": [
    {
     "data": {
      "text/plain": [
       "array([[0, 0, 0],\n",
       "       [0, 0, 1],\n",
       "       [0, 1, 0],\n",
       "       [1, 0, 0]])"
      ]
     },
     "execution_count": 13,
     "metadata": {},
     "output_type": "execute_result"
    }
   ],
   "source": [
    "superlattice.lattice_points"
   ]
  },
  {
   "cell_type": "markdown",
   "metadata": {},
   "source": [
    "Multiplicity is the size of the supercell."
   ]
  },
  {
   "cell_type": "code",
   "execution_count": 14,
   "metadata": {
    "scrolled": false
   },
   "outputs": [
    {
     "data": {
      "text/plain": [
       "4"
      ]
     },
     "execution_count": 14,
     "metadata": {},
     "output_type": "execute_result"
    }
   ],
   "source": [
    "superlattice.multiplicity"
   ]
  },
  {
   "cell_type": "markdown",
   "metadata": {},
   "source": [
    "The irreducible lattice points form a unique set lattice points under point group symmetry.\n",
    "The `irreducible_lattice_points_trans` attribute contains the point group operations that\n",
    "rotate the lattice points to the irreducible lattice points."
   ]
  },
  {
   "cell_type": "code",
   "execution_count": 15,
   "metadata": {},
   "outputs": [
    {
     "data": {
      "text/plain": [
       "array([[0, 0, 0],\n",
       "       [0, 0, 1]])"
      ]
     },
     "execution_count": 15,
     "metadata": {},
     "output_type": "execute_result"
    }
   ],
   "source": [
    "superlattice.irreducible_lattice_points"
   ]
  },
  {
   "cell_type": "code",
   "execution_count": 16,
   "metadata": {},
   "outputs": [
    {
     "data": {
      "text/plain": [
       "array(['E', 'E', 'Ic2e', 'Ic2c'], dtype='<U7')"
      ]
     },
     "execution_count": 16,
     "metadata": {},
     "output_type": "execute_result"
    }
   ],
   "source": [
    "superlattice.irreducible_lattice_points_trans"
   ]
  },
  {
   "cell_type": "markdown",
   "metadata": {},
   "source": [
    "## Kpoints\n",
    "\n",
    "`Kpoint` class finds all the k-points that fit for a given supercell, and the irreducible k-points and the point group operations that transform k-points to their irreducible counterpart.\n",
    "It uses `LatticeFTG` to find the reciprocal lattice points and convert them into kpoints."
   ]
  },
  {
   "cell_type": "code",
   "execution_count": 17,
   "metadata": {},
   "outputs": [],
   "source": [
    "from principia_materia.translation_group import Kpoints"
   ]
  },
  {
   "cell_type": "code",
   "execution_count": 18,
   "metadata": {},
   "outputs": [],
   "source": [
    "kpoints = Kpoints(vec=np.array([\n",
    "    [0.0, 0.5, 0.5],\n",
    "    [0.5, 0.0, 0.5],\n",
    "    [0.5, 0.5, 0.0],\n",
    "]),\n",
    "  supa=np.array([\n",
    "      [-1, 1, 1],\n",
    "      [1, -1, 1],\n",
    "      [1, 1, -1],\n",
    "]),\n",
    "  pg=\"Oh\",\n",
    ")"
   ]
  },
  {
   "cell_type": "code",
   "execution_count": 25,
   "metadata": {
    "scrolled": true
   },
   "outputs": [
    {
     "data": {
      "text/plain": [
       "array([[Fraction(0, 1), Fraction(0, 1), Fraction(0, 1)],\n",
       "       [Fraction(1, 2), Fraction(1, 2), Fraction(0, 1)],\n",
       "       [Fraction(1, 2), Fraction(0, 1), Fraction(1, 2)],\n",
       "       [Fraction(0, 1), Fraction(1, 2), Fraction(1, 2)]], dtype=object)"
      ]
     },
     "execution_count": 25,
     "metadata": {},
     "output_type": "execute_result"
    }
   ],
   "source": [
    "kpoints.kpoints"
   ]
  },
  {
   "cell_type": "code",
   "execution_count": 27,
   "metadata": {
    "scrolled": true
   },
   "outputs": [
    {
     "data": {
      "text/plain": [
       "array([[Fraction(0, 1), Fraction(0, 1), Fraction(0, 1)],\n",
       "       [Fraction(1, 2), Fraction(1, 2), Fraction(0, 1)]], dtype=object)"
      ]
     },
     "execution_count": 27,
     "metadata": {},
     "output_type": "execute_result"
    }
   ],
   "source": [
    "kpoints.irreducible_kpoints"
   ]
  },
  {
   "cell_type": "code",
   "execution_count": 28,
   "metadata": {},
   "outputs": [
    {
     "data": {
      "text/plain": [
       "array(['E', 'E', 'Ic2e', 'Ic2c'], dtype='<U7')"
      ]
     },
     "execution_count": 28,
     "metadata": {},
     "output_type": "execute_result"
    }
   ],
   "source": [
    "kpoints.irreducible_kpoints_trans"
   ]
  },
  {
   "cell_type": "markdown",
   "metadata": {},
   "source": [
    "## CrystalFTG\n",
    "\n",
    "Derived from `Crystal` class which is a combination of `Lattice` and `Cluster`, this class contains critical information of a crystal structure, including lattice vectors, species of atoms and their positions and the supercell matrix. \n",
    "The instances of this class store the key information of the strutures we will be studying with this package. "
   ]
  },
  {
   "cell_type": "code",
   "execution_count": 19,
   "metadata": {},
   "outputs": [],
   "source": [
    "from principia_materia.translation_group import CrystalFTG"
   ]
  },
  {
   "cell_type": "markdown",
   "metadata": {},
   "source": [
    "Here we define a rocksalt structure with lattice constant of 1.0, with a $2\\times2\\times2$ diagonal supercell."
   ]
  },
  {
   "cell_type": "code",
   "execution_count": 20,
   "metadata": {},
   "outputs": [],
   "source": [
    "structure =  CrystalFTG(\n",
    "    vec=1 * np.array([\n",
    "        [0.0, 0.5, 0.5],\n",
    "        [0.5, 0.0, 0.5],\n",
    "        [0.5, 0.5, 0.0],\n",
    "    ]),\n",
    "    atoms={\n",
    "        \"Na\": [[0, 0, 0]],\n",
    "        \"Cl\": [[0.5, 0.5, 0.5]],\n",
    "    },\n",
    "    orbitals=\"p\",\n",
    "    supa=np.array([\n",
    "        [2, 0, 0],\n",
    "        [0, 2, 0],\n",
    "        [0, 0, 2],\n",
    "    ])\n",
    ")"
   ]
  },
  {
   "cell_type": "code",
   "execution_count": 21,
   "metadata": {
    "scrolled": true
   },
   "outputs": [
    {
     "data": {
      "text/plain": [
       "OrderedDict([('vec',\n",
       "              array([[0. , 0.5, 0.5],\n",
       "                     [0.5, 0. , 0.5],\n",
       "                     [0.5, 0.5, 0. ]])),\n",
       "             ('atoms',\n",
       "              OrderedDict([('Na', array([[0., 0., 0.]])),\n",
       "                           ('Cl', array([[0.5, 0.5, 0.5]]))])),\n",
       "             ('orbitals', 'p'),\n",
       "             ('supa',\n",
       "              array([[2, 0, 0],\n",
       "                     [0, 2, 0],\n",
       "                     [0, 0, 2]]))])"
      ]
     },
     "execution_count": 21,
     "metadata": {},
     "output_type": "execute_result"
    }
   ],
   "source": [
    "structure.to_dict()"
   ]
  },
  {
   "cell_type": "markdown",
   "metadata": {},
   "source": [
    "The supercell creates a finite translation group with a finite number of translation points, within which we can explore vibrational properties of the crystal."
   ]
  },
  {
   "cell_type": "code",
   "execution_count": 22,
   "metadata": {},
   "outputs": [
    {
     "data": {
      "text/plain": [
       "array([[0, 0, 0],\n",
       "       [1, 0, 0],\n",
       "       [0, 1, 0],\n",
       "       [1, 1, 0],\n",
       "       [0, 0, 1],\n",
       "       [1, 0, 1],\n",
       "       [0, 1, 1],\n",
       "       [1, 1, 1]])"
      ]
     },
     "execution_count": 22,
     "metadata": {},
     "output_type": "execute_result"
    }
   ],
   "source": [
    "structure.supa_lattice.lattice_points"
   ]
  },
  {
   "cell_type": "markdown",
   "metadata": {},
   "source": [
    "1. Displacement basis of q-points\n",
    "\n",
    "    The orbitals are set to \"p\" which transform like atomic displacements.\n",
    "    We then can compute the displacement basis at an arbitrary q-point.\n",
    "    The data is in dictionary form, with keys denoting the index of atom and the orbital, \n",
    "    and the values being the displacement vector of the basis."
   ]
  },
  {
   "cell_type": "code",
   "execution_count": 23,
   "metadata": {
    "scrolled": false
   },
   "outputs": [
    {
     "data": {
      "text/plain": [
       "OrderedDict([((0, 'p_x'),\n",
       "              array([[ 0.35355339+0.j,  0.        +0.j,  0.        +0.j],\n",
       "                     [-0.35355339-0.j,  0.        +0.j,  0.        +0.j],\n",
       "                     [ 0.35355339+0.j,  0.        +0.j,  0.        +0.j],\n",
       "                     [-0.35355339-0.j,  0.        +0.j,  0.        +0.j],\n",
       "                     [ 0.35355339+0.j,  0.        +0.j,  0.        +0.j],\n",
       "                     [-0.35355339-0.j,  0.        +0.j,  0.        +0.j],\n",
       "                     [ 0.35355339+0.j,  0.        +0.j,  0.        +0.j],\n",
       "                     [-0.35355339-0.j,  0.        +0.j,  0.        +0.j],\n",
       "                     [ 0.        +0.j,  0.        +0.j,  0.        +0.j],\n",
       "                     [ 0.        +0.j,  0.        +0.j,  0.        +0.j],\n",
       "                     [ 0.        +0.j,  0.        +0.j,  0.        +0.j],\n",
       "                     [ 0.        +0.j,  0.        +0.j,  0.        +0.j],\n",
       "                     [ 0.        +0.j,  0.        +0.j,  0.        +0.j],\n",
       "                     [ 0.        +0.j,  0.        +0.j,  0.        +0.j],\n",
       "                     [ 0.        +0.j,  0.        +0.j,  0.        +0.j],\n",
       "                     [ 0.        +0.j,  0.        +0.j,  0.        +0.j]])),\n",
       "             ((0, 'p_y'),\n",
       "              array([[ 0.        +0.j,  0.35355339+0.j,  0.        +0.j],\n",
       "                     [ 0.        +0.j, -0.35355339-0.j,  0.        +0.j],\n",
       "                     [ 0.        +0.j,  0.35355339+0.j,  0.        +0.j],\n",
       "                     [ 0.        +0.j, -0.35355339-0.j,  0.        +0.j],\n",
       "                     [ 0.        +0.j,  0.35355339+0.j,  0.        +0.j],\n",
       "                     [ 0.        +0.j, -0.35355339-0.j,  0.        +0.j],\n",
       "                     [ 0.        +0.j,  0.35355339+0.j,  0.        +0.j],\n",
       "                     [ 0.        +0.j, -0.35355339-0.j,  0.        +0.j],\n",
       "                     [ 0.        +0.j,  0.        +0.j,  0.        +0.j],\n",
       "                     [ 0.        +0.j,  0.        +0.j,  0.        +0.j],\n",
       "                     [ 0.        +0.j,  0.        +0.j,  0.        +0.j],\n",
       "                     [ 0.        +0.j,  0.        +0.j,  0.        +0.j],\n",
       "                     [ 0.        +0.j,  0.        +0.j,  0.        +0.j],\n",
       "                     [ 0.        +0.j,  0.        +0.j,  0.        +0.j],\n",
       "                     [ 0.        +0.j,  0.        +0.j,  0.        +0.j],\n",
       "                     [ 0.        +0.j,  0.        +0.j,  0.        +0.j]])),\n",
       "             ((0, 'p_z'),\n",
       "              array([[ 0.        +0.j,  0.        +0.j,  0.35355339+0.j],\n",
       "                     [ 0.        +0.j,  0.        +0.j, -0.35355339-0.j],\n",
       "                     [ 0.        +0.j,  0.        +0.j,  0.35355339+0.j],\n",
       "                     [ 0.        +0.j,  0.        +0.j, -0.35355339-0.j],\n",
       "                     [ 0.        +0.j,  0.        +0.j,  0.35355339+0.j],\n",
       "                     [ 0.        +0.j,  0.        +0.j, -0.35355339-0.j],\n",
       "                     [ 0.        +0.j,  0.        +0.j,  0.35355339+0.j],\n",
       "                     [ 0.        +0.j,  0.        +0.j, -0.35355339-0.j],\n",
       "                     [ 0.        +0.j,  0.        +0.j,  0.        +0.j],\n",
       "                     [ 0.        +0.j,  0.        +0.j,  0.        +0.j],\n",
       "                     [ 0.        +0.j,  0.        +0.j,  0.        +0.j],\n",
       "                     [ 0.        +0.j,  0.        +0.j,  0.        +0.j],\n",
       "                     [ 0.        +0.j,  0.        +0.j,  0.        +0.j],\n",
       "                     [ 0.        +0.j,  0.        +0.j,  0.        +0.j],\n",
       "                     [ 0.        +0.j,  0.        +0.j,  0.        +0.j],\n",
       "                     [ 0.        +0.j,  0.        +0.j,  0.        +0.j]])),\n",
       "             ((1, 'p_x'),\n",
       "              array([[ 0.        +0.j,  0.        +0.j,  0.        +0.j],\n",
       "                     [ 0.        +0.j,  0.        +0.j,  0.        +0.j],\n",
       "                     [ 0.        +0.j,  0.        +0.j,  0.        +0.j],\n",
       "                     [ 0.        +0.j,  0.        +0.j,  0.        +0.j],\n",
       "                     [ 0.        +0.j,  0.        +0.j,  0.        +0.j],\n",
       "                     [ 0.        +0.j,  0.        +0.j,  0.        +0.j],\n",
       "                     [ 0.        +0.j,  0.        +0.j,  0.        +0.j],\n",
       "                     [ 0.        +0.j,  0.        +0.j,  0.        +0.j],\n",
       "                     [ 0.35355339+0.j,  0.        +0.j,  0.        +0.j],\n",
       "                     [-0.35355339-0.j,  0.        +0.j,  0.        +0.j],\n",
       "                     [ 0.35355339+0.j,  0.        +0.j,  0.        +0.j],\n",
       "                     [-0.35355339-0.j,  0.        +0.j,  0.        +0.j],\n",
       "                     [ 0.35355339+0.j,  0.        +0.j,  0.        +0.j],\n",
       "                     [-0.35355339-0.j,  0.        +0.j,  0.        +0.j],\n",
       "                     [ 0.35355339+0.j,  0.        +0.j,  0.        +0.j],\n",
       "                     [-0.35355339-0.j,  0.        +0.j,  0.        +0.j]])),\n",
       "             ((1, 'p_y'),\n",
       "              array([[ 0.        +0.j,  0.        +0.j,  0.        +0.j],\n",
       "                     [ 0.        +0.j,  0.        +0.j,  0.        +0.j],\n",
       "                     [ 0.        +0.j,  0.        +0.j,  0.        +0.j],\n",
       "                     [ 0.        +0.j,  0.        +0.j,  0.        +0.j],\n",
       "                     [ 0.        +0.j,  0.        +0.j,  0.        +0.j],\n",
       "                     [ 0.        +0.j,  0.        +0.j,  0.        +0.j],\n",
       "                     [ 0.        +0.j,  0.        +0.j,  0.        +0.j],\n",
       "                     [ 0.        +0.j,  0.        +0.j,  0.        +0.j],\n",
       "                     [ 0.        +0.j,  0.35355339+0.j,  0.        +0.j],\n",
       "                     [ 0.        +0.j, -0.35355339-0.j,  0.        +0.j],\n",
       "                     [ 0.        +0.j,  0.35355339+0.j,  0.        +0.j],\n",
       "                     [ 0.        +0.j, -0.35355339-0.j,  0.        +0.j],\n",
       "                     [ 0.        +0.j,  0.35355339+0.j,  0.        +0.j],\n",
       "                     [ 0.        +0.j, -0.35355339-0.j,  0.        +0.j],\n",
       "                     [ 0.        +0.j,  0.35355339+0.j,  0.        +0.j],\n",
       "                     [ 0.        +0.j, -0.35355339-0.j,  0.        +0.j]])),\n",
       "             ((1, 'p_z'),\n",
       "              array([[ 0.        +0.j,  0.        +0.j,  0.        +0.j],\n",
       "                     [ 0.        +0.j,  0.        +0.j,  0.        +0.j],\n",
       "                     [ 0.        +0.j,  0.        +0.j,  0.        +0.j],\n",
       "                     [ 0.        +0.j,  0.        +0.j,  0.        +0.j],\n",
       "                     [ 0.        +0.j,  0.        +0.j,  0.        +0.j],\n",
       "                     [ 0.        +0.j,  0.        +0.j,  0.        +0.j],\n",
       "                     [ 0.        +0.j,  0.        +0.j,  0.        +0.j],\n",
       "                     [ 0.        +0.j,  0.        +0.j,  0.        +0.j],\n",
       "                     [ 0.        +0.j,  0.        +0.j,  0.35355339+0.j],\n",
       "                     [ 0.        +0.j,  0.        +0.j, -0.35355339-0.j],\n",
       "                     [ 0.        +0.j,  0.        +0.j,  0.35355339+0.j],\n",
       "                     [ 0.        +0.j,  0.        +0.j, -0.35355339-0.j],\n",
       "                     [ 0.        +0.j,  0.        +0.j,  0.35355339+0.j],\n",
       "                     [ 0.        +0.j,  0.        +0.j, -0.35355339-0.j],\n",
       "                     [ 0.        +0.j,  0.        +0.j,  0.35355339+0.j],\n",
       "                     [ 0.        +0.j,  0.        +0.j, -0.35355339-0.j]]))])"
      ]
     },
     "execution_count": 23,
     "metadata": {},
     "output_type": "execute_result"
    }
   ],
   "source": [
    "structure.get_basis_at_q(np.array([0.5, 0.0, 0.0]))"
   ]
  },
  {
   "cell_type": "markdown",
   "metadata": {},
   "source": [
    "2. Wigner Seitz cell\n",
    "\n",
    "    One of the important properties of finite translation group is Wigner Seitz cell, \n",
    "    which puts every atom closest to the origin. \n",
    "    This feature is crucial in the Fourier Interpolation of phonons and their interactions.\n",
    "    \n",
    "    The method return 3 pieces of information:\n",
    "        1. The translation point mapping from the atom of the WS cell to the primitive cell.\n",
    "        2. The index of the atom of WS cell in the primitive cell.\n",
    "        3. The WS weight of the atom."
   ]
  },
  {
   "cell_type": "code",
   "execution_count": 24,
   "metadata": {},
   "outputs": [],
   "source": [
    "ws_cell_translation, ws_cell_atoms, ws_cell_weights = \\\n",
    "    structure.get_wigner_seitz_cell(center=np.array([0, 0, 0]))"
   ]
  },
  {
   "cell_type": "markdown",
   "metadata": {},
   "source": [
    "`CrystalFTG` builds supercell based on the primitive cell and the supercell matrix:"
   ]
  },
  {
   "cell_type": "code",
   "execution_count": 30,
   "metadata": {},
   "outputs": [
    {
     "data": {
      "text/plain": [
       "(<principia_materia.translation_group.crystal.Crystal at 0x7f9ebf4a30d0>,\n",
       " array([[2, 0, 0],\n",
       "        [0, 2, 0],\n",
       "        [0, 0, 2]]))"
      ]
     },
     "execution_count": 30,
     "metadata": {},
     "output_type": "execute_result"
    }
   ],
   "source": [
    "structure.primitive, structure.supa"
   ]
  },
  {
   "cell_type": "markdown",
   "metadata": {},
   "source": [
    "## Find a minimum supercell that fits the given k-point(s)\n",
    "\n",
    "Function `get_minimum_supercell` returns a minimum supercell that fits the provided k-point(s). The algorithm is decribed in Section III(B) of paper: PHYSICAL REVIEW B 100, 014303 (2019). \n",
    "\n",
    "Note that the mininmum supercellcell is not unique. Here we find the Hermite Normal form of the minimum cell which is unique."
   ]
  },
  {
   "cell_type": "code",
   "execution_count": 35,
   "metadata": {},
   "outputs": [],
   "source": [
    "from principia_materia import Fraction\n",
    "from principia_materia.io_interface import parse_array\n",
    "from principia_materia.translation_group import get_minimum_supercell"
   ]
  },
  {
   "cell_type": "code",
   "execution_count": 38,
   "metadata": {},
   "outputs": [
    {
     "data": {
      "text/plain": [
       "([[Fraction(1, 2), Fraction(0, 1), Fraction(0, 1)],\n",
       "  [Fraction(0, 1), Fraction(1, 2), Fraction(0, 1)]],\n",
       " array([[2, 0, 0],\n",
       "        [0, 2, 0],\n",
       "        [0, 0, 1]]))"
      ]
     },
     "execution_count": 38,
     "metadata": {},
     "output_type": "execute_result"
    }
   ],
   "source": [
    "qpts = parse_array(\"1/2 0 0; 0 1/2 0\", Fraction)\n",
    "supa = get_minimum_supercell(qpts)\n",
    "qpts, supa"
   ]
  }
 ],
 "metadata": {
  "kernelspec": {
   "display_name": "Python 3 (ipykernel)",
   "language": "python",
   "name": "python3"
  },
  "language_info": {
   "codemirror_mode": {
    "name": "ipython",
    "version": 3
   },
   "file_extension": ".py",
   "mimetype": "text/x-python",
   "name": "python",
   "nbconvert_exporter": "python",
   "pygments_lexer": "ipython3",
   "version": "3.8.8"
  }
 },
 "nbformat": 4,
 "nbformat_minor": 4
}
