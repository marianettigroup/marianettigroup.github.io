{
 "cells": [
  {
   "cell_type": "markdown",
   "metadata": {},
   "source": [
    "### KPath.get_gridpoints_on_path\n",
    "\n",
    "Find the grid points of a given mesh/supa that are on the K-points path.\n",
    "\n",
    "An arbitrary $\\textbf{q}$-point along the path between 2 points $\\textbf{q}_{a}$ and $\\textbf{q}_{b}$ can\n",
    "be written as:\n",
    "$$ \\textbf{q} = \\textbf{q}_{a} + x (\\textbf{q}_{b} - \\textbf{q}_{a})\n",
    "$$\n",
    "\n",
    "where $\\forall i \\in [1, dim]$, \n",
    "$q_{(i)} = (1 - x) q_{a (i)} + x q_{b (i)}$.\n",
    "\n",
    "The condition for a $\\textbf{q}$-point to be on a given mesh $\\hat{S}_{BZ}$ is:\n",
    "$$ \\textbf{p} = \\hat{S}_{BZ} \\cdot \\textbf{q}, \\quad \\textbf{p} \\mod 1 = \\textbf{0}\n",
    "$$\n",
    "equivalently: $\\forall i \\in [1, dim]$,\n",
    "$\\left((1 - x) p_{a (i)} + x p_{b (i)}\\right) \\mod 1 = 0$\n",
    "\n",
    "Thus, to find the $\\textbf{q}$-points along the path that are from a given mesh $\\hat{S}_{BZ}$,\n",
    "we simply need to solve for the set $\\{x\\}$ that satisfies $\\forall i \\in [1, dim]$, $p_{(i)} \\mod 1 = 0$.\n",
    "\n",
    "The most straightforward approach is to solve for the set $\\{x_{(i)}\\}$ where $p_(i) \\mod 1 = 0$.\n",
    "And obtain the final solution of set $\\{x\\}$:\n",
    "$$ \\{x\\} = \\bigcap_{i=1}^{dim}\\{x_{(i)}\\}\n",
    "$$"
   ]
  }
 ],
 "metadata": {
  "kernelspec": {
   "display_name": "Python 3 (ipykernel)",
   "language": "python",
   "name": "python3"
  },
  "language_info": {
   "codemirror_mode": {
    "name": "ipython",
    "version": 3
   },
   "file_extension": ".py",
   "mimetype": "text/x-python",
   "name": "python",
   "nbconvert_exporter": "python",
   "pygments_lexer": "ipython3",
   "version": "3.8.8"
  }
 },
 "nbformat": 4,
 "nbformat_minor": 4
}
