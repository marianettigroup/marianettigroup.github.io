{
 "cells": [
  {
   "cell_type": "markdown",
   "metadata": {},
   "source": [
    "# Representations\n",
    "\n",
    "Representation is the foundation of all our group theory analysis.\n",
    "The goal is for a given representation to decompose for the irreducible representation, which contains complete information of the original in the most concise way.\n",
    "\n",
    "Here we present several core representation classes we use throught out the package."
   ]
  },
  {
   "cell_type": "markdown",
   "metadata": {},
   "source": [
    "## Cluster represntation\n",
    "\n",
    "We can form the point group representations of a cluster and decompose them into irreducible representations, \n",
    "allowing us to analyze the symmetry of the cluster.\n",
    "Furthermore, we can execute (symmetry) direct product the cluster representation with representation for more advanced analysis. For example, the displacement representation of a cluster is the direct product representation of the cluster representation and the representation of the atomic displacement.\n",
    "\n",
    "Here we look at an example of the in-plane displacement of a square cluster of C atoms under $C_{4v}$ point group."
   ]
  },
  {
   "cell_type": "code",
   "execution_count": 3,
   "metadata": {},
   "outputs": [],
   "source": [
    "import numpy as np\n",
    "from principia_materia.translation_group import Cluster\n",
    "from principia_materia.representation import ClusterRep"
   ]
  },
  {
   "cell_type": "code",
   "execution_count": 4,
   "metadata": {},
   "outputs": [],
   "source": [
    "atoms = {\n",
    "    \"C\": np.array([\n",
    "        [ 0.5,  0.5, 0.0],\n",
    "        [-0.5,  0.5, 0.0],\n",
    "        [-0.5, -0.5, 0.0],\n",
    "        [ 0.5, -0.5, 0.0],\n",
    "    ])\n",
    "}\n",
    "cluster = Cluster(atoms=atoms, orbitals=\"p_x,p_y\")"
   ]
  },
  {
   "cell_type": "code",
   "execution_count": 5,
   "metadata": {},
   "outputs": [],
   "source": [
    "cluster_rep = ClusterRep(cluster=cluster, pg=\"C4v\")"
   ]
  },
  {
   "cell_type": "markdown",
   "metadata": {},
   "source": [
    "The irreducible representation of the square cluster representation is:\n",
    "$$A_1 \\oplus B_2 \\oplus E_1$$"
   ]
  },
  {
   "cell_type": "code",
   "execution_count": 6,
   "metadata": {
    "scrolled": true
   },
   "outputs": [
    {
     "data": {
      "text/plain": [
       "OrderedDict([('A1', 1), ('B2', 1), ('E', 1)])"
      ]
     },
     "execution_count": 6,
     "metadata": {},
     "output_type": "execute_result"
    }
   ],
   "source": [
    "cluster_rep.irrep_counter"
   ]
  },
  {
   "cell_type": "markdown",
   "metadata": {},
   "source": [
    "And the irreducible basis is as follows:"
   ]
  },
  {
   "cell_type": "code",
   "execution_count": 7,
   "metadata": {},
   "outputs": [],
   "source": [
    "cluster_rep.construct_irreducible_basis()"
   ]
  },
  {
   "cell_type": "code",
   "execution_count": 8,
   "metadata": {
    "scrolled": true
   },
   "outputs": [
    {
     "data": {
      "text/plain": [
       "OrderedDict([(('A1', 0), array([[0.5, 0.5, 0.5, 0.5]])),\n",
       "             (('B2', 0), array([[ 0.5, -0.5,  0.5, -0.5]])),\n",
       "             (('E', 0),\n",
       "              array([[ 0.5, -0.5, -0.5,  0.5],\n",
       "                     [ 0.5,  0.5, -0.5, -0.5]]))])"
      ]
     },
     "execution_count": 8,
     "metadata": {},
     "output_type": "execute_result"
    }
   ],
   "source": [
    "cluster_rep.irrvec_dict"
   ]
  },
  {
   "cell_type": "code",
   "execution_count": 10,
   "metadata": {},
   "outputs": [],
   "source": [
    "cluster_rep = ClusterRep(cluster=cluster, pg=\"C2v\")"
   ]
  },
  {
   "cell_type": "code",
   "execution_count": 11,
   "metadata": {
    "scrolled": true
   },
   "outputs": [
    {
     "data": {
      "text/plain": [
       "OrderedDict([('A1', 2), ('B1', 1)])"
      ]
     },
     "execution_count": 11,
     "metadata": {},
     "output_type": "execute_result"
    }
   ],
   "source": [
    "cluster_rep.irrep_counter"
   ]
  },
  {
   "cell_type": "code",
   "execution_count": null,
   "metadata": {},
   "outputs": [],
   "source": []
  },
  {
   "cell_type": "markdown",
   "metadata": {},
   "source": [
    "## Cluster displacements represntation\n",
    "\n",
    "Displacement representation of the point group in a cluster allows us to analyze the symmetry of atomic displacement in a cluster.\n",
    "\n",
    "We continue with the above example of the square."
   ]
  },
  {
   "cell_type": "code",
   "execution_count": 2,
   "metadata": {},
   "outputs": [],
   "source": [
    "from principia_materia.representation import DispClusterRep"
   ]
  },
  {
   "cell_type": "code",
   "execution_count": 14,
   "metadata": {},
   "outputs": [],
   "source": [
    "disp_cluster_rep = DispClusterRep(cluster=cluster, pg=\"C4v\")"
   ]
  },
  {
   "cell_type": "markdown",
   "metadata": {},
   "source": [
    "We can decompose the displacement representation of the cluster into irreducible representations:\n",
    "$$A_1 \\oplus B_1 \\oplus A_2 \\oplus B_2 \\oplus 2 E$$"
   ]
  },
  {
   "cell_type": "code",
   "execution_count": 15,
   "metadata": {
    "scrolled": true
   },
   "outputs": [
    {
     "data": {
      "text/plain": [
       "OrderedDict([('A1', 1), ('B1', 1), ('A2', 1), ('B2', 1), ('E', 2)])"
      ]
     },
     "execution_count": 15,
     "metadata": {},
     "output_type": "execute_result"
    }
   ],
   "source": [
    "disp_cluster_rep.irrep_counter"
   ]
  },
  {
   "cell_type": "markdown",
   "metadata": {},
   "source": [
    "Below are the displacement vectors of the irreducible representations:"
   ]
  },
  {
   "cell_type": "code",
   "execution_count": 16,
   "metadata": {},
   "outputs": [],
   "source": [
    "disp_cluster_rep.construct_irreducible_basis()"
   ]
  },
  {
   "cell_type": "code",
   "execution_count": 17,
   "metadata": {},
   "outputs": [
    {
     "data": {
      "text/plain": [
       "OrderedDict([(('A1', 0),\n",
       "              array([[ 0.35355339,  0.35355339, -0.35355339,  0.35355339, -0.35355339,\n",
       "                      -0.35355339,  0.35355339, -0.35355339]])),\n",
       "             (('B1', 0),\n",
       "              array([[ 0.35355339, -0.35355339, -0.35355339, -0.35355339, -0.35355339,\n",
       "                       0.35355339,  0.35355339,  0.35355339]])),\n",
       "             (('A2', 0),\n",
       "              array([[ 0.35355339, -0.35355339,  0.35355339,  0.35355339, -0.35355339,\n",
       "                       0.35355339, -0.35355339, -0.35355339]])),\n",
       "             (('B2', 0),\n",
       "              array([[ 0.35355339,  0.35355339,  0.35355339, -0.35355339, -0.35355339,\n",
       "                      -0.35355339, -0.35355339,  0.35355339]])),\n",
       "             (('E', 0),\n",
       "              array([[0.5, 0. , 0.5, 0. , 0.5, 0. , 0.5, 0. ],\n",
       "                     [0. , 0.5, 0. , 0.5, 0. , 0.5, 0. , 0.5]])),\n",
       "             (('E', 1),\n",
       "              array([[ 0. ,  0.5,  0. , -0.5,  0. ,  0.5,  0. , -0.5],\n",
       "                     [ 0.5,  0. , -0.5,  0. ,  0.5,  0. , -0.5,  0. ]]))])"
      ]
     },
     "execution_count": 17,
     "metadata": {},
     "output_type": "execute_result"
    }
   ],
   "source": [
    "disp_cluster_rep.irrvec_dict"
   ]
  },
  {
   "cell_type": "markdown",
   "metadata": {},
   "source": [
    "## Direct product represntation\n",
    "\n",
    "`DirectProduct` computes the direct product of a set of irreducible representations and decompose the result."
   ]
  },
  {
   "cell_type": "code",
   "execution_count": 18,
   "metadata": {},
   "outputs": [],
   "source": [
    "from principia_materia.representation import DirectProduct"
   ]
  },
  {
   "cell_type": "code",
   "execution_count": 25,
   "metadata": {},
   "outputs": [],
   "source": [
    "direct_product = DirectProduct(\n",
    "    pg=\"C6v\",\n",
    "    irrep_inputs=[\"E1\", \"E1\"],\n",
    ")"
   ]
  },
  {
   "cell_type": "markdown",
   "metadata": {},
   "source": [
    "For example, under $C_{6v}$ point group:\n",
    "$$E_1 \\otimes E_1 = A_1 \\oplus A_2 \\oplus E_2$$"
   ]
  },
  {
   "cell_type": "code",
   "execution_count": 26,
   "metadata": {},
   "outputs": [
    {
     "data": {
      "text/plain": [
       "OrderedDict([('A1', 1), ('A2', 1), ('E2', 1)])"
      ]
     },
     "execution_count": 26,
     "metadata": {},
     "output_type": "execute_result"
    }
   ],
   "source": [
    "direct_product.irrep_counter"
   ]
  },
  {
   "cell_type": "code",
   "execution_count": 27,
   "metadata": {},
   "outputs": [],
   "source": [
    "direct_product.construct_irreducible_basis()"
   ]
  },
  {
   "cell_type": "code",
   "execution_count": 28,
   "metadata": {},
   "outputs": [
    {
     "data": {
      "text/plain": [
       "OrderedDict([(('A1', 0),\n",
       "              array([[0.70710678, 0.        , 0.        , 0.70710678]])),\n",
       "             (('A2', 0),\n",
       "              array([[ 0.        ,  0.70710678, -0.70710678,  0.        ]])),\n",
       "             (('E2', 0),\n",
       "              array([[ 0.        ,  0.70710678,  0.70710678,  0.        ],\n",
       "                     [ 0.70710678,  0.        ,  0.        , -0.70710678]]))])"
      ]
     },
     "execution_count": 28,
     "metadata": {},
     "output_type": "execute_result"
    }
   ],
   "source": [
    "direct_product.irrvec_dict"
   ]
  },
  {
   "cell_type": "markdown",
   "metadata": {},
   "source": [
    "## Symmetric direct product representation"
   ]
  },
  {
   "cell_type": "code",
   "execution_count": 19,
   "metadata": {},
   "outputs": [],
   "source": [
    "from principia_materia.representation import SymmetricDirectProduct"
   ]
  },
  {
   "cell_type": "code",
   "execution_count": 29,
   "metadata": {},
   "outputs": [],
   "source": [
    "sym_direct_product = SymmetricDirectProduct(\n",
    "    pg=\"C6v\",\n",
    "    irrep_inputs=[\"E1\", \"E1\"],\n",
    ")"
   ]
  },
  {
   "cell_type": "markdown",
   "metadata": {},
   "source": [
    "For example, under $C_{6v}$ point group, we have the symmetric direct product:\n",
    "$$E_1 \\odot E_1 = A_1 \\oplus E_2$$"
   ]
  },
  {
   "cell_type": "code",
   "execution_count": 30,
   "metadata": {},
   "outputs": [
    {
     "data": {
      "text/plain": [
       "OrderedDict([('A1', 1), ('E2', 1)])"
      ]
     },
     "execution_count": 30,
     "metadata": {},
     "output_type": "execute_result"
    }
   ],
   "source": [
    "sym_direct_product.irrep_counter"
   ]
  },
  {
   "cell_type": "code",
   "execution_count": 31,
   "metadata": {},
   "outputs": [],
   "source": [
    "sym_direct_product.construct_irreducible_basis()"
   ]
  },
  {
   "cell_type": "code",
   "execution_count": 32,
   "metadata": {},
   "outputs": [
    {
     "data": {
      "text/plain": [
       "OrderedDict([(('A1', 0), array([[0.70710678, 0.        , 0.70710678]])),\n",
       "             (('E2', 0),\n",
       "              array([[ 0.        ,  1.        ,  0.        ],\n",
       "                     [ 0.70710678,  0.        , -0.70710678]]))])"
      ]
     },
     "execution_count": 32,
     "metadata": {},
     "output_type": "execute_result"
    }
   ],
   "source": [
    "sym_direct_product.irrvec_dict"
   ]
  },
  {
   "cell_type": "markdown",
   "metadata": {},
   "source": [
    "## CharmBlochRep\n",
    "\n",
    "`CharmBlochRep` finds the real space point group representation of a translationally invariant set of orbitals for a given q-point. The point operations will map a given q-point to a different q-point.\n",
    "\n",
    "Here is an example with rocksalt at Gamma point."
   ]
  },
  {
   "cell_type": "code",
   "execution_count": 22,
   "metadata": {},
   "outputs": [],
   "source": [
    "from principia_materia.io_interface.vasp import parse_poscar\n",
    "from principia_materia.translation_group import get_structure, CrystalFTG\n",
    "from principia_materia.representation import CharmBlochRep"
   ]
  },
  {
   "cell_type": "code",
   "execution_count": 36,
   "metadata": {},
   "outputs": [],
   "source": [
    "structure = get_structure(parse_poscar(\"nacl/POSCAR\"), stype=CrystalFTG)\n",
    "structure.orbitals = \"p\""
   ]
  },
  {
   "cell_type": "markdown",
   "metadata": {},
   "source": [
    "First we construct the representation, and find the p orbitals in rocksalt transform like $2 T_{1u}$ in $O_h$ point group.\n",
    "The irreducible basis also shows that each $T_{1u}$ representaion the each atom of the rocksalt."
   ]
  },
  {
   "cell_type": "code",
   "execution_count": 38,
   "metadata": {},
   "outputs": [],
   "source": [
    "cbr = CharmBlochRep(\n",
    "    structure=structure,\n",
    "    pg=\"Oh\",\n",
    "    qpoint=np.array([0, 0, 0]),\n",
    ")"
   ]
  },
  {
   "cell_type": "code",
   "execution_count": 39,
   "metadata": {},
   "outputs": [
    {
     "data": {
      "text/plain": [
       "OrderedDict([('T1u', 2)])"
      ]
     },
     "execution_count": 39,
     "metadata": {},
     "output_type": "execute_result"
    }
   ],
   "source": [
    "cbr.irrep_counter"
   ]
  },
  {
   "cell_type": "code",
   "execution_count": 40,
   "metadata": {},
   "outputs": [],
   "source": [
    "cbr.construct_irreducible_basis()"
   ]
  },
  {
   "cell_type": "code",
   "execution_count": 41,
   "metadata": {
    "scrolled": true
   },
   "outputs": [
    {
     "data": {
      "text/plain": [
       "OrderedDict([(('T1u', 0),\n",
       "              array([[1.+0.j, 0.+0.j, 0.+0.j, 0.+0.j, 0.+0.j, 0.+0.j],\n",
       "                     [0.+0.j, 1.+0.j, 0.+0.j, 0.+0.j, 0.+0.j, 0.+0.j],\n",
       "                     [0.+0.j, 0.+0.j, 1.+0.j, 0.+0.j, 0.+0.j, 0.+0.j]])),\n",
       "             (('T1u', 1),\n",
       "              array([[0.+0.j, 0.+0.j, 0.+0.j, 1.+0.j, 0.+0.j, 0.+0.j],\n",
       "                     [0.+0.j, 0.+0.j, 0.+0.j, 0.+0.j, 1.+0.j, 0.+0.j],\n",
       "                     [0.+0.j, 0.+0.j, 0.+0.j, 0.+0.j, 0.+0.j, 1.+0.j]]))])"
      ]
     },
     "execution_count": 41,
     "metadata": {},
     "output_type": "execute_result"
    }
   ],
   "source": [
    "cbr.irrvec_dict"
   ]
  },
  {
   "cell_type": "markdown",
   "metadata": {},
   "source": [
    "Crystal nuclei vibrations also transform like \"p\" orbitals.\n",
    "In the case of a free crystal, we can impose the acoustic sum rule and the acoustic modes at Gamma point can be isolated, and have phonon frequencies of 0.\n",
    "These acoustic modes at Gamma point can't couple with other modes, so we can remove them when analyzing phonons and their interactions."
   ]
  },
  {
   "cell_type": "code",
   "execution_count": 42,
   "metadata": {},
   "outputs": [],
   "source": [
    "cbr.orthogonalize_shift_modes(remove=True)"
   ]
  },
  {
   "cell_type": "code",
   "execution_count": 43,
   "metadata": {},
   "outputs": [
    {
     "data": {
      "text/plain": [
       "OrderedDict([(('T1u', 0),\n",
       "              array([[ 0.70710678+0.j,  0.        +0.j,  0.        +0.j,\n",
       "                      -0.70710678+0.j,  0.        +0.j,  0.        +0.j],\n",
       "                     [ 0.        +0.j,  0.70710678+0.j,  0.        +0.j,\n",
       "                       0.        +0.j, -0.70710678+0.j,  0.        +0.j],\n",
       "                     [ 0.        +0.j,  0.        +0.j,  0.70710678+0.j,\n",
       "                       0.        +0.j,  0.        +0.j, -0.70710678+0.j]]))])"
      ]
     },
     "execution_count": 43,
     "metadata": {},
     "output_type": "execute_result"
    }
   ],
   "source": [
    "cbr.irrvec_dict"
   ]
  },
  {
   "cell_type": "markdown",
   "metadata": {},
   "source": [
    "## Shift Mode\n",
    "\n",
    "`ShiftMode` constructs the shift modes for a given list of orbitals \n",
    "(orbitals can only be from \"p_x\", \"p_y\", \"p_z\").\n",
    "This is used to remove shift modes from `DispClusterRep` and `CharmBlochRep`."
   ]
  },
  {
   "cell_type": "code",
   "execution_count": 1,
   "metadata": {},
   "outputs": [],
   "source": [
    "from principia_materia.representation import ShiftMode"
   ]
  },
  {
   "cell_type": "code",
   "execution_count": 2,
   "metadata": {},
   "outputs": [],
   "source": [
    "sm = ShiftMode(\n",
    "  pg=\"D4h\",\n",
    "  orbitals=list(\"p_x p_y\".split()) * 2,\n",
    "  )\n",
    "sm.set_shift_mode_vectors()"
   ]
  },
  {
   "cell_type": "code",
   "execution_count": 3,
   "metadata": {},
   "outputs": [
    {
     "data": {
      "text/plain": [
       "OrderedDict([('Eu', 1)])"
      ]
     },
     "execution_count": 3,
     "metadata": {},
     "output_type": "execute_result"
    }
   ],
   "source": [
    "sm.shift_mode_irrep_counter"
   ]
  },
  {
   "cell_type": "code",
   "execution_count": 4,
   "metadata": {},
   "outputs": [
    {
     "data": {
      "text/plain": [
       "OrderedDict([(('Eu', 0),\n",
       "              array([[0.70710678, 0.        , 0.70710678, 0.        ],\n",
       "                     [0.        , 0.70710678, 0.        , 0.70710678]]))])"
      ]
     },
     "execution_count": 4,
     "metadata": {},
     "output_type": "execute_result"
    }
   ],
   "source": [
    "sm.shift_mode_vectors"
   ]
  }
 ],
 "metadata": {
  "kernelspec": {
   "display_name": "Python 3 (ipykernel)",
   "language": "python",
   "name": "python3"
  },
  "language_info": {
   "codemirror_mode": {
    "name": "ipython",
    "version": 3
   },
   "file_extension": ".py",
   "mimetype": "text/x-python",
   "name": "python",
   "nbconvert_exporter": "python",
   "pygments_lexer": "ipython3",
   "version": "3.8.8"
  }
 },
 "nbformat": 4,
 "nbformat_minor": 4
}
