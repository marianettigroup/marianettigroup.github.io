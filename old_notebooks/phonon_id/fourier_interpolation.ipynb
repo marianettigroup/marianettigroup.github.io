{
 "cells": [
  {
   "cell_type": "markdown",
   "metadata": {},
   "source": [
    "# Fourier Interpolation\n",
    "\n",
    "\n",
    "When we compute phonons and their interactions, we construct a FTG and find the coefficients within it.\n",
    "Fourier interpolation allows us to interpolate the interactions from this discrete grid to continum (i.e. infinite crystal), to study materials properties, including dynamics and thermaldynamics.\n",
    "\n",
    "First, we Fourier transform the dynamic matrices from reciprocal space to real space, this gives us the force constant tensors at a given range and order. However, these forces has to respect space group symmetry, and the Fourier transform and periodic boundary condition of the FTG do not. \n",
    "There is not unique approach on how to enforce the space group symmetry of the force tensors.\n",
    "We propose a most straightforward approach to repack them into the Wigner Seitz cell of the FTG.\n",
    "\n",
    "\n",
    "In this `FourierInterpolation` class:\n",
    "1. If dynamic matrices of the irreducible Q-points are provided, the rest of the zone will be \n",
    "    computed from the irreducible counterpart using space group symmetry. Then Fourier transformed into real space.\n",
    "2. If dynamic matrices of all the Q-points in FTG, they will be Fourier transformed into real space.\n",
    "3. If force constants tensors of the FTG, no extra action is needed.\n",
    "\n",
    "The Wigner Seitz map contains the information of the real space T-points that have non-zero force constants and their weight in terms of the force constants within FTG.\n",
    "\n",
    "The resulting force constants tensors can be used to compute Grüneisen parameters, phonon linewidth etc. as well as being used in MD simulations.\n"
   ]
  },
  {
   "cell_type": "code",
   "execution_count": 2,
   "metadata": {},
   "outputs": [],
   "source": [
    "import numpy as np\n",
    "from principia_materia.io_interface.vasp import parse_poscar\n",
    "from principia_materia.translation_group import get_structure, CrystalFTG\n",
    "from principia_materia.phonon_id.fourier_interpolation import FourierInterpolation"
   ]
  },
  {
   "cell_type": "code",
   "execution_count": 3,
   "metadata": {},
   "outputs": [],
   "source": [
    "structure = get_structure(parse_poscar(\"nacl/POSCAR\"), stype=CrystalFTG)\n",
    "structure.orbitals = \"p\""
   ]
  },
  {
   "cell_type": "code",
   "execution_count": 14,
   "metadata": {},
   "outputs": [],
   "source": [
    "supa = np.array([\n",
    "    [1, 0, 0],\n",
    "    [0, 1, 0],\n",
    "    [0, 0, 1]])"
   ]
  },
  {
   "cell_type": "code",
   "execution_count": 11,
   "metadata": {},
   "outputs": [],
   "source": [
    "fi = FourierInterpolation(\n",
    "    structure=structure,\n",
    "    supa=supa,\n",
    "    pg=\"Oh\",\n",
    "    order=2,\n",
    ")\n",
    "fi.set_Wigner_Seitz_map()"
   ]
  },
  {
   "cell_type": "code",
   "execution_count": 13,
   "metadata": {},
   "outputs": [
    {
     "data": {
      "text/plain": [
       "OrderedDict([(((0, 0, 0), (0, 0, 0)),\n",
       "              array([[1., 0.],\n",
       "                     [0., 1.]])),\n",
       "             (((0, 0, 0), (-1, 0, -1)),\n",
       "              array([[0.        , 0.16666667],\n",
       "                     [0.        , 0.        ]])),\n",
       "             (((0, 0, 0), (0, -1, 0)),\n",
       "              array([[0.        , 0.16666667],\n",
       "                     [0.        , 0.        ]])),\n",
       "             (((0, 0, 0), (0, -1, -1)),\n",
       "              array([[0.        , 0.16666667],\n",
       "                     [0.        , 0.        ]])),\n",
       "             (((0, 0, 0), (-1, -1, 0)),\n",
       "              array([[0.        , 0.16666667],\n",
       "                     [0.        , 0.        ]])),\n",
       "             (((0, 0, 0), (0, 0, -1)),\n",
       "              array([[0.        , 0.16666667],\n",
       "                     [0.        , 0.        ]])),\n",
       "             (((0, 0, 0), (-1, 0, 0)),\n",
       "              array([[0.        , 0.16666667],\n",
       "                     [0.        , 0.        ]])),\n",
       "             (((0, 0, 0), (0, 1, 1)),\n",
       "              array([[0.        , 0.        ],\n",
       "                     [0.16666667, 0.        ]])),\n",
       "             (((0, 0, 0), (1, 0, 0)),\n",
       "              array([[0.        , 0.        ],\n",
       "                     [0.16666667, 0.        ]])),\n",
       "             (((0, 0, 0), (0, 0, 1)),\n",
       "              array([[0.        , 0.        ],\n",
       "                     [0.16666667, 0.        ]])),\n",
       "             (((0, 0, 0), (1, 0, 1)),\n",
       "              array([[0.        , 0.        ],\n",
       "                     [0.16666667, 0.        ]])),\n",
       "             (((0, 0, 0), (1, 1, 0)),\n",
       "              array([[0.        , 0.        ],\n",
       "                     [0.16666667, 0.        ]])),\n",
       "             (((0, 0, 0), (0, 1, 0)),\n",
       "              array([[0.        , 0.        ],\n",
       "                     [0.16666667, 0.        ]]))])"
      ]
     },
     "execution_count": 13,
     "metadata": {},
     "output_type": "execute_result"
    }
   ],
   "source": [
    "fi._Phi_WS_map"
   ]
  }
 ],
 "metadata": {
  "kernelspec": {
   "display_name": "Python 3 (ipykernel)",
   "language": "python",
   "name": "python3"
  },
  "language_info": {
   "codemirror_mode": {
    "name": "ipython",
    "version": 3
   },
   "file_extension": ".py",
   "mimetype": "text/x-python",
   "name": "python",
   "nbconvert_exporter": "python",
   "pygments_lexer": "ipython3",
   "version": "3.8.8"
  }
 },
 "nbformat": 4,
 "nbformat_minor": 4
}
