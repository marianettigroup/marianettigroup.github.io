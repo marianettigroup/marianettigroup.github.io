{
 "cells": [
  {
   "cell_type": "markdown",
   "metadata": {},
   "source": [
    "# Symmetry analysis\n",
    "\n",
    "In order to compute phonons and their interactions, symmetry analysis needs to be performed to determine the irreducible derivtives that are contained in the give system size.\n",
    "Using irreducible derivtives guarantees the symmetry of the interaction coefficients as well as computation efficiency.\n",
    "\n",
    "Here we perform symmetry analysis in reciprocal space, maximally exploit space group symmetry of the crystal.\n",
    "The process is divided in several steps, for a given system size (FTG) and interaction order:\n",
    "1. We find the irreducible Q-points fits the FTG, at the given order.\n",
    "2. For each Q-point, we find irreducible derivatives allowed by symmetry."
   ]
  },
  {
   "cell_type": "markdown",
   "metadata": {},
   "source": [
    "## Irreducible Q-points\n",
    "\n",
    "In the translation group module, we have discussed finding irreducible q-points within a given supercell with symmetry.\n",
    "In reciprocal space, an N-th order phonon interaction is denoted by a collection of N q-points (here we refer to as a single Q-point), that have to add to a reciproal lattice vector due to conservation of momentum.\n",
    "The task at hand becomes at given order, finding the irreducible set of Q-points that we need to compute the phonon interactions for.\n",
    "\n",
    "Since the displacements of nuclei commute with the BO energy surface, these energy derivatives are invariant to the order of how the derivative is taken. This is the permutation symmetry of the derivatives.\n",
    "\n",
    "We are able to find the irreducible Q-points using the space group symmetry of the crystal and permutation symmetry of derivatives. All the other Q-points can be computed from this irreducible set through rotation and trapose.\n",
    "\n",
    "\n",
    "For example, we take a look at the FCC structure with Oh symmetry at 3rd order in $2\\hat{1}$ supercell."
   ]
  },
  {
   "cell_type": "code",
   "execution_count": 1,
   "metadata": {},
   "outputs": [],
   "source": [
    "import numpy as np\n",
    "from principia_materia.translation_group.qpoints_n import QpointsN"
   ]
  },
  {
   "cell_type": "code",
   "execution_count": 2,
   "metadata": {},
   "outputs": [],
   "source": [
    "vec = np.array([\n",
    "    [0.0, 0.5, 0.5],\n",
    "    [0.5, 0.0, 0.5],\n",
    "    [0.5, 0.5, 0.0],\n",
    "])\n",
    "supa = np.array([\n",
    "    [2, 0, 0],\n",
    "    [0, 2, 0],\n",
    "    [0, 0, 2],\n",
    "])\n",
    "qpoints_n = QpointsN(\n",
    "    vec=vec,\n",
    "    supa=supa,\n",
    "    order=3,\n",
    "    pg=\"Oh\",\n",
    ")"
   ]
  },
  {
   "cell_type": "markdown",
   "metadata": {},
   "source": [
    "The algorithm is design to find the permutationally irreducible Q-points, then use the space group symmetry and permutation map to find the irreducible Q-points.\n",
    "\n",
    "Here we can see the Qpoints get reduced due to the 2 types of symmetry step by step."
   ]
  },
  {
   "cell_type": "code",
   "execution_count": 3,
   "metadata": {},
   "outputs": [
    {
     "data": {
      "text/plain": [
       "(64, 15, 5)"
      ]
     },
     "execution_count": 3,
     "metadata": {},
     "output_type": "execute_result"
    }
   ],
   "source": [
    "len(qpoints_n.Qpoints), \\\n",
    "    len(qpoints_n.Qpoints_perm.irreducible_Qpoints), \\\n",
    "    len(qpoints_n.irreducible_Qpoints)\n"
   ]
  },
  {
   "cell_type": "markdown",
   "metadata": {},
   "source": [
    "## Irreducible derivatives at a given Q-point - little group approach\n",
    "\n",
    "Little group approach perform symmetry analysis with the little group of the Q-point, which is the space group leaves each q-point of the Q-point invariant. \n",
    "This is the most straightforward approach, but doesn't not exploit the full potential of the space group.\n",
    "\n",
    "The symmetry analysis consists of following steps:\n",
    "1. Find the little group of the Q-point\n",
    "2. Find the irreducible representations of the displacements at each q-point\n",
    "3. Use symmetry direct product group to determine the irreducible derivatives."
   ]
  },
  {
   "cell_type": "code",
   "execution_count": 4,
   "metadata": {},
   "outputs": [],
   "source": [
    "from principia_materia import Fraction\n",
    "from principia_materia.io_interface import parse_array\n",
    "from principia_materia.io_interface.vasp import parse_poscar\n",
    "from principia_materia.translation_group import get_structure, CrystalFTG\n",
    "from principia_materia.phonon_id.little_group_adt import LittleGroupADT"
   ]
  },
  {
   "cell_type": "markdown",
   "metadata": {},
   "source": [
    "Here we check out an example with rocksalt structure at $(\\Gamma, L_{a}, L_{a})$ Q-point, where 5 irreducible derivatives are found."
   ]
  },
  {
   "cell_type": "code",
   "execution_count": 5,
   "metadata": {},
   "outputs": [],
   "source": [
    "structure = get_structure(parse_poscar(\"nacl/POSCAR\"), stype=CrystalFTG)\n",
    "structure.orbitals = \"p\""
   ]
  },
  {
   "cell_type": "code",
   "execution_count": 43,
   "metadata": {
    "scrolled": true
   },
   "outputs": [
    {
     "data": {
      "text/plain": [
       "[[Fraction(0, 1), Fraction(0, 1), Fraction(0, 1)],\n",
       " [Fraction(1, 2), Fraction(0, 1), Fraction(0, 1)],\n",
       " [Fraction(1, 2), Fraction(0, 1), Fraction(0, 1)]]"
      ]
     },
     "execution_count": 43,
     "metadata": {},
     "output_type": "execute_result"
    }
   ],
   "source": [
    "Qpoint = parse_array(\"0 0 0; 1/2 0 0; 1/2 0 0\", dtype=Fraction)\n",
    "Qpoint"
   ]
  },
  {
   "cell_type": "code",
   "execution_count": 44,
   "metadata": {},
   "outputs": [],
   "source": [
    "lgadt = LittleGroupADT(\n",
    "    structure=structure,\n",
    "    pg=\"Oh\",\n",
    "    Qpoint=Qpoint)\n",
    "lgadt.set_qpoint_displacement_rep()\n",
    "lgadt.set_irreducible_derivatives()\n",
    "lgadt.set_vectorized_tensor()"
   ]
  },
  {
   "cell_type": "code",
   "execution_count": 48,
   "metadata": {},
   "outputs": [
    {
     "data": {
      "text/plain": [
       "5"
      ]
     },
     "execution_count": 48,
     "metadata": {},
     "output_type": "execute_result"
    }
   ],
   "source": [
    "lgadt.n_irreducible_derivatives"
   ]
  },
  {
   "cell_type": "code",
   "execution_count": 45,
   "metadata": {
    "scrolled": false
   },
   "outputs": [
    {
     "data": {
      "text/plain": [
       "[((((Fraction(0, 1), Fraction(0, 1), Fraction(0, 1)), ('A2u', 0)),\n",
       "   ((Fraction(1, 2), Fraction(0, 1), Fraction(0, 1)), ('A1g', 0)),\n",
       "   ((Fraction(1, 2), Fraction(0, 1), Fraction(0, 1)), ('A2u', 0))),\n",
       "  ('A1g', 0)),\n",
       " ((((Fraction(0, 1), Fraction(0, 1), Fraction(0, 1)), ('A2u', 0)),\n",
       "   ((Fraction(1, 2), Fraction(0, 1), Fraction(0, 1)), ('Eg', 0)),\n",
       "   ((Fraction(1, 2), Fraction(0, 1), Fraction(0, 1)), ('Eu', 0))),\n",
       "  ('A1g', 0)),\n",
       " ((((Fraction(0, 1), Fraction(0, 1), Fraction(0, 1)), ('Eu', 0)),\n",
       "   ((Fraction(1, 2), Fraction(0, 1), Fraction(0, 1)), ('A1g', 0)),\n",
       "   ((Fraction(1, 2), Fraction(0, 1), Fraction(0, 1)), ('Eu', 0))),\n",
       "  ('A1g', 0)),\n",
       " ((((Fraction(0, 1), Fraction(0, 1), Fraction(0, 1)), ('Eu', 0)),\n",
       "   ((Fraction(1, 2), Fraction(0, 1), Fraction(0, 1)), ('A2u', 0)),\n",
       "   ((Fraction(1, 2), Fraction(0, 1), Fraction(0, 1)), ('Eg', 0))),\n",
       "  ('A1g', 0)),\n",
       " ((((Fraction(0, 1), Fraction(0, 1), Fraction(0, 1)), ('Eu', 0)),\n",
       "   ((Fraction(1, 2), Fraction(0, 1), Fraction(0, 1)), ('Eg', 0)),\n",
       "   ((Fraction(1, 2), Fraction(0, 1), Fraction(0, 1)), ('Eu', 0))),\n",
       "  ('A1g', 0))]"
      ]
     },
     "execution_count": 45,
     "metadata": {},
     "output_type": "execute_result"
    }
   ],
   "source": [
    "lgadt.irreducible_derivative_names"
   ]
  },
  {
   "cell_type": "markdown",
   "metadata": {},
   "source": [
    "The vectorized tensors are tensors that each element of them is a vector representing \n",
    "the linear combination of the irreducible derivatives. \n",
    "This is an efficient way to store the analytic dynamic tensor in terms of irreducible derivatives.\n",
    "\n",
    "The dynamic tensor has shape of (6, 6, 6) and there are 5 irreducible derivatives, thus the analytic tensor has shape of (6, 6, 6, 5)."
   ]
  },
  {
   "cell_type": "code",
   "execution_count": 47,
   "metadata": {
    "scrolled": true
   },
   "outputs": [
    {
     "data": {
      "text/plain": [
       "(6, 6, 6, 5)"
      ]
     },
     "execution_count": 47,
     "metadata": {},
     "output_type": "execute_result"
    }
   ],
   "source": [
    "lgadt.vectorized_tensor.shape"
   ]
  },
  {
   "cell_type": "code",
   "execution_count": 26,
   "metadata": {
    "scrolled": false
   },
   "outputs": [
    {
     "data": {
      "text/plain": [
       "OrderedDict([('vec',\n",
       "              array([[0.        , 2.83000729, 2.83000729],\n",
       "                     [2.83000729, 0.        , 2.83000729],\n",
       "                     [2.83000729, 2.83000729, 0.        ]])),\n",
       "             ('atoms',\n",
       "              OrderedDict([('Na', array([[0., 0., 0.]])),\n",
       "                           ('Cl', array([[0.5, 0.5, 0.5]]))])),\n",
       "             ('orbitals', 'p'),\n",
       "             ('supa',\n",
       "              array([[1, 0, 0],\n",
       "                     [0, 1, 0],\n",
       "                     [0, 0, 1]]))])"
      ]
     },
     "execution_count": 26,
     "metadata": {},
     "output_type": "execute_result"
    }
   ],
   "source": [
    "structure.to_dict()"
   ]
  },
  {
   "cell_type": "markdown",
   "metadata": {},
   "source": [
    "## Symmetry analysis in a FTG\n",
    "\n",
    "Now that we have discussed the 2 steps of the symmetry analysis.\n",
    "Combine them together and we can compute the vibrational hamiltonian of a given FTG and order in terms of irreducible derivatives.\n",
    "\n",
    "We can use this information to write out the hamiltonian to execute some back-of-envelope calculations, or we can perform more complicated analysis. For example, we can compute the chainrule matrices to determine how to use the minimum amount of displacements to probe the entire system, which is the core feature of the BID approach, or we can Fourier transform the analytic tensors into real space force tensors for further analysis.\n",
    "\n",
    "Here we will discuss the chainrule analysis that is used in BID approach."
   ]
  },
  {
   "cell_type": "markdown",
   "metadata": {},
   "source": [
    "## Chainrule derivatives\n",
    "\n",
    "After we obtain the analytic tensors of a given FTG and order, we can compute the chainrule matrices, that represent the contribution of the irreducible derivatives to the derivative from the provided displacement basis.\n",
    "This allows us to convert between derivatives of displacement basis of choice and the irreducible derivatives, which is the key to computing phonon interaction coefficients using finite displacements.\n",
    "\n",
    "Here, we use the same rocksalt example to compute the chainrule matrix of an arbitrary displacement."
   ]
  },
  {
   "cell_type": "code",
   "execution_count": 49,
   "metadata": {},
   "outputs": [],
   "source": [
    "from principia_materia.phonon_id.chainrule_derivatives import ChainruleDerivatives"
   ]
  },
  {
   "cell_type": "code",
   "execution_count": 51,
   "metadata": {},
   "outputs": [],
   "source": [
    "structure = get_structure(parse_poscar(\"nacl/POSCAR\"), stype=CrystalFTG)\n",
    "structure.orbitals = \"p\"\n",
    "supa = np.array([\n",
    "    [2, 0, 0],\n",
    "    [0, 2, 0],\n",
    "    [0, 0, 2],\n",
    "])"
   ]
  },
  {
   "cell_type": "code",
   "execution_count": 68,
   "metadata": {},
   "outputs": [
    {
     "name": "stdout",
     "output_type": "stream",
     "text": [
      "Computing ADT for Qpoint: ((0, 0, 0), (0, 0, 0), (0, 0, 0))\n",
      "Computing ADT for Qpoint: ((1/2, 0, 0), (1/2, 0, 0), (0, 0, 0))\n",
      "Computing ADT for Qpoint: ((1/2, 1/2, 0), (1/2, 1/2, 0), (0, 0, 0))\n",
      "Computing ADT for Qpoint: ((1/2, 1/2, 0), (0, 1/2, 0), (1/2, 0, 0))\n",
      "Computing ADT for Qpoint: ((0, 1/2, 1/2), (1/2, 0, 1/2), (1/2, 1/2, 0))\n",
      "Summarize irreducible derivatives.\n",
      "Compute vectorized tensors.\n"
     ]
    }
   ],
   "source": [
    "chainrule =  ChainruleDerivatives(\n",
    "    structure=structure,\n",
    "    supa=supa,\n",
    "    order=3,\n",
    "    pg='Oh')\n",
    "chainrule.set_ADT(verbose=True)\n",
    "chainrule.set_basis()"
   ]
  },
  {
   "cell_type": "code",
   "execution_count": 69,
   "metadata": {},
   "outputs": [],
   "source": [
    "displacements = np.zeros((1, chainrule.order - 1, chainrule.supercell.natoms, chainrule.supercell.dim))\n",
    "displacements[0, 0, 0, 0] = 1\n",
    "displacements[0, 1, 1, 0] = 1"
   ]
  },
  {
   "cell_type": "code",
   "execution_count": 70,
   "metadata": {},
   "outputs": [],
   "source": [
    "matrix = chainrule.compute_chainrule(displacements)"
   ]
  },
  {
   "cell_type": "code",
   "execution_count": 71,
   "metadata": {},
   "outputs": [
    {
     "data": {
      "text/plain": [
       "(1, 8, 6, 61)"
      ]
     },
     "execution_count": 71,
     "metadata": {},
     "output_type": "execute_result"
    }
   ],
   "source": [
    "matrix.shape"
   ]
  }
 ],
 "metadata": {
  "kernelspec": {
   "display_name": "Python 3 (ipykernel)",
   "language": "python",
   "name": "python3"
  },
  "language_info": {
   "codemirror_mode": {
    "name": "ipython",
    "version": 3
   },
   "file_extension": ".py",
   "mimetype": "text/x-python",
   "name": "python",
   "nbconvert_exporter": "python",
   "pygments_lexer": "ipython3",
   "version": "3.8.8"
  }
 },
 "nbformat": 4,
 "nbformat_minor": 4
}
