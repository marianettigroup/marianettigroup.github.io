{
 "cells": [
  {
   "cell_type": "markdown",
   "metadata": {},
   "source": [
    "# Mathematical functions\n",
    "\n",
    "There are some key mathematical functions that are frequently used throughout the package but not available\n",
    "in libraries like numpy. Thus, we define them here."
   ]
  },
  {
   "cell_type": "markdown",
   "metadata": {},
   "source": [
    "## Gram–Schmidt Orthonormalization\n",
    "\n",
    "Function `gs_orthog` orthonormalizes the input row vectors, when `allow_zero=True`, it allows linearly dependent rows, otherwise it will throw a `ZeroDivisionError` error."
   ]
  },
  {
   "cell_type": "code",
   "execution_count": 1,
   "metadata": {},
   "outputs": [],
   "source": [
    "import numpy as np\n",
    "from principia_materia.mathematics import gs_orthog"
   ]
  },
  {
   "cell_type": "code",
   "execution_count": 4,
   "metadata": {},
   "outputs": [],
   "source": [
    "vectors =  np.array([\n",
    "    [1, 0, 0],\n",
    "    [1, 1, 0],\n",
    "    [1, 0, 1],\n",
    "    [1, 1, 1],\n",
    "], float)"
   ]
  },
  {
   "cell_type": "code",
   "execution_count": 15,
   "metadata": {
    "scrolled": true
   },
   "outputs": [
    {
     "name": "stdout",
     "output_type": "stream",
     "text": [
      "Caught an error:\n",
      "\t ZeroDivisionError: Vectors are not linearly independent.\n"
     ]
    }
   ],
   "source": [
    "try:\n",
    "    gs_orthog(vectors)\n",
    "except ZeroDivisionError as e:\n",
    "    print(\"Caught an error:\\n\\t {0.__class__.__name__}: {0!s}\".format(e))"
   ]
  },
  {
   "cell_type": "code",
   "execution_count": 6,
   "metadata": {
    "scrolled": true
   },
   "outputs": [
    {
     "data": {
      "text/plain": [
       "array([[1., 0., 0.],\n",
       "       [0., 1., 0.],\n",
       "       [0., 0., 1.],\n",
       "       [0., 0., 0.]])"
      ]
     },
     "execution_count": 6,
     "metadata": {},
     "output_type": "execute_result"
    }
   ],
   "source": [
    "gs_orthog(vectors, allowzero=True)"
   ]
  },
  {
   "cell_type": "markdown",
   "metadata": {},
   "source": [
    "## Smith Normal Form & Hermite Normal Form\n",
    "\n",
    "Smith normal form is a diagonal form of a integer matrix, with only row and column transformations.\n",
    "This is a crucial property of integer matrices that is used in our minimum supercell theorem.\n",
    "Meanwhile, Hermite normal form is the upper/lower triangular form of integer matrices with only row/colum transformations. This is also an important mathematical tool in finding the minimum super cell as well as finding the translations within a supercell.\n",
    "\n",
    "Wiki:\n",
    "[Smith Normal Form](https://en.wikipedia.org/wiki/Smith_normal_form),\n",
    "[Hermite Normal Form](https://en.wikipedia.org/wiki/Hermite_normal_form)"
   ]
  },
  {
   "cell_type": "code",
   "execution_count": 17,
   "metadata": {},
   "outputs": [],
   "source": [
    "from principia_materia.mathematics import SmithNormalForm, HermiteNormalForm_AU, HermiteNormalForm_UA"
   ]
  },
  {
   "cell_type": "code",
   "execution_count": 18,
   "metadata": {},
   "outputs": [],
   "source": [
    "matrix = np.array([\n",
    "    [1, 2, 3],\n",
    "    [3, 4, 5],\n",
    "    [5, 6, 7],\n",
    "])"
   ]
  },
  {
   "cell_type": "markdown",
   "metadata": {},
   "source": [
    "Smith normal form and the row & column transformation:"
   ]
  },
  {
   "cell_type": "code",
   "execution_count": 19,
   "metadata": {
    "scrolled": true
   },
   "outputs": [
    {
     "data": {
      "text/plain": [
       "(array([[1, 0, 0],\n",
       "        [0, 2, 0],\n",
       "        [0, 0, 0]]),\n",
       " array([[ 1,  0,  0],\n",
       "        [ 3, -1,  0],\n",
       "        [-1,  2, -1]]),\n",
       " array([[ 1, -2,  1],\n",
       "        [ 0,  1, -2],\n",
       "        [ 0,  0,  1]]))"
      ]
     },
     "execution_count": 19,
     "metadata": {},
     "output_type": "execute_result"
    }
   ],
   "source": [
    "SmithNormalForm(matrix)"
   ]
  },
  {
   "cell_type": "markdown",
   "metadata": {},
   "source": [
    "Column Hermite normal form and the column transformation:"
   ]
  },
  {
   "cell_type": "code",
   "execution_count": 20,
   "metadata": {
    "scrolled": true
   },
   "outputs": [
    {
     "data": {
      "text/plain": [
       "(array([[1, 0, 0],\n",
       "        [1, 2, 0],\n",
       "        [1, 4, 0]]),\n",
       " array([[-1,  2, -1],\n",
       "        [ 1, -1,  2],\n",
       "        [ 0,  0, -1]]))"
      ]
     },
     "execution_count": 20,
     "metadata": {},
     "output_type": "execute_result"
    }
   ],
   "source": [
    "HermiteNormalForm_AU(matrix)"
   ]
  },
  {
   "cell_type": "markdown",
   "metadata": {},
   "source": [
    "Row Hermite form and the row transformation:"
   ]
  },
  {
   "cell_type": "code",
   "execution_count": 21,
   "metadata": {},
   "outputs": [
    {
     "data": {
      "text/plain": [
       "(array([[ 1,  0, -1],\n",
       "        [ 0,  2,  4],\n",
       "        [ 0,  0,  0]]),\n",
       " array([[-2,  1,  0],\n",
       "        [ 3, -1,  0],\n",
       "        [-1,  2, -1]]))"
      ]
     },
     "execution_count": 21,
     "metadata": {},
     "output_type": "execute_result"
    }
   ],
   "source": [
    "HermiteNormalForm_UA(matrix)"
   ]
  }
 ],
 "metadata": {
  "kernelspec": {
   "display_name": "Python 3 (ipykernel)",
   "language": "python",
   "name": "python3"
  },
  "language_info": {
   "codemirror_mode": {
    "name": "ipython",
    "version": 3
   },
   "file_extension": ".py",
   "mimetype": "text/x-python",
   "name": "python",
   "nbconvert_exporter": "python",
   "pygments_lexer": "ipython3",
   "version": "3.8.8"
  }
 },
 "nbformat": 4,
 "nbformat_minor": 4
}
