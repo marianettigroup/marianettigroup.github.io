{
 "cells": [
  {
   "cell_type": "code",
   "execution_count": 1,
   "metadata": {},
   "outputs": [],
   "source": [
    "%load_ext autoreload\n",
    "%autoreload 2"
   ]
  },
  {
   "cell_type": "markdown",
   "metadata": {},
   "source": [
    "# Error tail fitting for finite difference calculations\n",
    "\n",
    "From the equation of the finite difference, we cam see that there is a linear error tail for the forward and backward only finite difference calculations and a quadratic error tail for central finite difference.\n",
    "When taking a derivative of a numerical functions on can simply reduce the error by using a very small delta.\n",
    "However, the noises from the DFT computation dominate when using very small displacement amplitute, and the higher order influence becomes non-neglegible when the amplitute gets larger.\n",
    "\n",
    "Thus, we need to compute the derivative at a series of deltas and fit the error tails to extrapolate $\\delta\\to0$ for the true derivative.\n",
    "\n",
    "Since at some delta points, the finite displacement result is so affected by noises, we need to discard those points during the fitting procedure. The most straightforward approach is to pick a number of delta points and find the best fit among them."
   ]
  },
  {
   "cell_type": "code",
   "execution_count": 2,
   "metadata": {},
   "outputs": [],
   "source": [
    "import numpy as np\n",
    "from principia_materia.mathematics import errortail\n",
    "from principia_materia.mathematics.errortail import get_errortail"
   ]
  },
  {
   "cell_type": "code",
   "execution_count": 3,
   "metadata": {},
   "outputs": [],
   "source": [
    "deltas = np.arange(10) / 100 + 0.01\n",
    "values = np.array([\n",
    "    [0.5488135 , 0.79172504],\n",
    "    [0.71518937, 0.52889492],\n",
    "    [0.60276338, 0.56804456],\n",
    "    [0.54488318, 0.92559664],\n",
    "    [0.4236548 , 0.07103606],\n",
    "    [0.64589411, 0.0871293 ],\n",
    "    [0.43758721, 0.0202184 ],\n",
    "    [0.891773  , 0.83261985],\n",
    "    [0.96366276, 0.77815675],\n",
    "    [0.38344152, 0.87001215]])"
   ]
  },
  {
   "cell_type": "code",
   "execution_count": 11,
   "metadata": {
    "scrolled": true
   },
   "outputs": [
    {
     "data": {
      "text/plain": [
       "(array([0.76973244+0.j, 0.78883914+0.j]),\n",
       " array([-138.99332838+0.j,    7.74785591+0.j]),\n",
       " array([array([1.+0.j, 3.+1.j, 4.+2.j]), array([0.+0.j, 7.+1.j, 9.+2.j])],\n",
       "       dtype=object),\n",
       " array([3.04622804e-06+0.j, 1.72701298e-05+0.j]))"
      ]
     },
     "execution_count": 11,
     "metadata": {},
     "output_type": "execute_result"
    }
   ],
   "source": [
    "get_errortail(\n",
    "    deltas=deltas,\n",
    "    values=values,\n",
    "    pick_min=3,\n",
    "    pick_max=5,\n",
    "    return_xcoef=True,\n",
    "    return_pick=True,\n",
    "    return_penalty=True,\n",
    ")"
   ]
  },
  {
   "cell_type": "code",
   "execution_count": null,
   "metadata": {
    "scrolled": false
   },
   "outputs": [],
   "source": [
    "help(errortail)"
   ]
  }
 ],
 "metadata": {
  "kernelspec": {
   "display_name": "Python 3 (ipykernel)",
   "language": "python",
   "name": "python3"
  },
  "language_info": {
   "codemirror_mode": {
    "name": "ipython",
    "version": 3
   },
   "file_extension": ".py",
   "mimetype": "text/x-python",
   "name": "python",
   "nbconvert_exporter": "python",
   "pygments_lexer": "ipython3",
   "version": "3.8.8"
  }
 },
 "nbformat": 4,
 "nbformat_minor": 4
}
