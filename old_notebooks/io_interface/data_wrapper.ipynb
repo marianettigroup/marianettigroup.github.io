{
 "cells": [
  {
   "cell_type": "markdown",
   "metadata": {},
   "source": [
    "# Interface with data storage formats\n",
    "\n",
    "There are many data storage formats that are widely used for various purposes.\n",
    "Our code produces a variety of data that can be stored in files for efficiency and, sometimes, readability.\n",
    "However, the data strutures we use are custom made, and are not directly supported by those existing data format interfaces.\n",
    "Since we still want the advantage of these formats, the best solution is to have a light weight interface of our own, that can assist storing our own data into those data formats.\n",
    "\n",
    "As of now, we generally will be using YAML and HDF5 to safely and efficiently store the data produced by our code.\n",
    "The frame we present here can be used in the future if there is a new data format that becomes the new norm."
   ]
  },
  {
   "cell_type": "markdown",
   "metadata": {},
   "source": [
    "## Generic Data Wrapper\n",
    "\n",
    "This abstract class provides the basic framework for our wrapper class, and defines how the wrapper is expected to work.\n",
    "\n",
    "The wrapper takes in data in the form of a dictionary, and convert the keys and values into supported data types and store them in the data format it is designed for.\n",
    "\n",
    "Before taking in the data, the wrapper needs to know the names (keys of dictionary) of the data and how to process them when storing them to or reading them from the data file. Here we refer to the process step \"actions\": a save action takes a piece of data store them into the data file in a supported format; a load action reads the data out of the data file and convert to the format that's expected in our code.\n",
    "\n",
    "In addition to actions, as a shortcut, it is also supported to specify data types and link them with a load and a save action.\n",
    "\n",
    "Meanwhile, since many parts of our code are frequently reused for different purposes, we also want the data wrapper to be easily reused in accordance with the reused of the codes they are associated with. We overloaded the add operator, so that 2 instances of data wrappers can be combined together to store data from both parts into the same file.\n",
    "\n",
    "The wrapper has 2 ways of load or save data:\n",
    "1. \"dumps\" and \"loads\" save and load data from/to a text string when the data format is in text form.\n",
    "2. \"dump\" and \"load\" save and load data from/to a file, this will be the only way for save/load data if the format is in binary."
   ]
  },
  {
   "cell_type": "markdown",
   "metadata": {},
   "source": [
    "## YAMLWrapper\n",
    "\n",
    "YAML is a very poppular data format, similar to json that is used in Python to storing data in a readable and easily writable form. However, the default yaml module has a lot of shortcomes that make the resulting YAML file not as easily to look at as we want.\n",
    "\n",
    "Thus, derived from the generic wrapper, this YAML wrapper allows us to store various data from our code into \n",
    "YAML in a consistent and readable format, provides more flexibility of writing the file by hand and saves us \n",
    "the  trouble of converting the data into the safe types supported by the default yaml engine.\n",
    "\n",
    "When reading and writing data, the wrapper keeps the data in the same order the names are registered into the wrapper."
   ]
  },
  {
   "cell_type": "code",
   "execution_count": 1,
   "metadata": {},
   "outputs": [],
   "source": [
    "from principia_materia import Fraction\n",
    "from principia_materia.io_interface.yaml_wrapper import YAMLWrapper"
   ]
  },
  {
   "cell_type": "markdown",
   "metadata": {},
   "source": [
    "Below is a demostration of how to use the YAMLWrapper.\n",
    "First, let's creat a wrapper to process the following data:\n",
    "1.  \"lattice_vector\", an array of floats that represents the basis vectors of a lattice\n",
    "2.  \"point_group\", a string, name of the point group of the lattice"
   ]
  },
  {
   "cell_type": "code",
   "execution_count": 2,
   "metadata": {},
   "outputs": [],
   "source": [
    "yw1 = YAMLWrapper(default_filename=\"demo1.yml\", title=\"Lattice\")\n",
    "yw1.add_item(\"lattice_vector\", action=\"2d-array\", optional=True)\n",
    "yw1.add_item(\"point_group\", dtype=str)"
   ]
  },
  {
   "cell_type": "markdown",
   "metadata": {},
   "source": [
    "This wrapper will allow us process both the lattice vector and the point group, for exmple:"
   ]
  },
  {
   "cell_type": "code",
   "execution_count": 3,
   "metadata": {},
   "outputs": [],
   "source": [
    "data1 = {\n",
    "    \"lattice_vector\": np.array([\n",
    "        [0.0, 0.5, 0.5],\n",
    "        [0.5, 0.0, 0.5],\n",
    "        [0.5, 0.5, 0.0],\n",
    "    ]),\n",
    "    \"point_group\": \"Oh\"\n",
    "}"
   ]
  },
  {
   "cell_type": "code",
   "execution_count": 4,
   "metadata": {},
   "outputs": [
    {
     "name": "stdout",
     "output_type": "stream",
     "text": [
      "# Lattice\n",
      "lattice_vector:\n",
      "  [[ 0.00000000,  0.50000000,  0.50000000],\n",
      "   [ 0.50000000,  0.00000000,  0.50000000],\n",
      "   [ 0.50000000,  0.50000000,  0.00000000]]\n",
      "point_group: Oh\n"
     ]
    }
   ],
   "source": [
    "print(yw1.dumps(data1))"
   ]
  },
  {
   "cell_type": "code",
   "execution_count": 5,
   "metadata": {
    "scrolled": true
   },
   "outputs": [
    {
     "data": {
      "text/plain": [
       "OrderedDict([('lattice_vector',\n",
       "              array([[0. , 0.5, 0.5],\n",
       "                     [0.5, 0. , 0.5],\n",
       "                     [0.5, 0.5, 0. ]])),\n",
       "             ('point_group', 'Oh')])"
      ]
     },
     "execution_count": 5,
     "metadata": {},
     "output_type": "execute_result"
    }
   ],
   "source": [
    "yw1.loads(\"\"\"\\\n",
    "# Lattice\n",
    "lattice_vector:\n",
    "  [[ 0.00000000,  0.50000000,  0.50000000],\n",
    "   [ 0.50000000,  0.00000000,  0.50000000],\n",
    "   [ 0.50000000,  0.50000000,  0.00000000]]\n",
    "point_group: Oh\"\"\")"
   ]
  },
  {
   "cell_type": "markdown",
   "metadata": {},
   "source": [
    "Now, we can create another wrapper to store the following information:\n",
    "1. \"natoms\", number of atoms\n",
    "2. \"orbital\", name of the orbital for the atoms, choice between \"s\", \"p\" and \"d\"\n",
    "3. \"qpoint\", a q-point, array of Fraction"
   ]
  },
  {
   "cell_type": "code",
   "execution_count": 6,
   "metadata": {},
   "outputs": [],
   "source": [
    "yw2 = YAMLWrapper(default_filename=\"demo2.yml\", title=\"Extra lattice info\")\n",
    "yw2.add_item(\"natoms\", action=\"int\")\n",
    "yw2.add_item(\"orbital\", choice=[\"s\", \"p\", \"d\"])\n",
    "yw2.add_item(\"qpoint\", action=\"fraction-array\")"
   ]
  },
  {
   "cell_type": "code",
   "execution_count": 7,
   "metadata": {},
   "outputs": [],
   "source": [
    "data2 = {\n",
    "    \"natoms\": 3,\n",
    "    \"orbital\": \"p\",\n",
    "    \"qpoint\": np.array([Fraction(1, 2), Fraction(0, 1), Fraction(0, 1)]),\n",
    "}"
   ]
  },
  {
   "cell_type": "code",
   "execution_count": 8,
   "metadata": {},
   "outputs": [
    {
     "name": "stdout",
     "output_type": "stream",
     "text": [
      "# Extra lattice info\n",
      "natoms:  3\n",
      "orbital: p\n",
      "qpoint: [1/2, 0, 0]\n"
     ]
    }
   ],
   "source": [
    "print(yw2.dumps(data2))"
   ]
  },
  {
   "cell_type": "code",
   "execution_count": 9,
   "metadata": {
    "scrolled": true
   },
   "outputs": [
    {
     "data": {
      "text/plain": [
       "OrderedDict([('natoms', 3),\n",
       "             ('orbital', 'p'),\n",
       "             ('qpoint',\n",
       "              array([Fraction(1, 2), Fraction(0, 1), Fraction(0, 1)], dtype=object))])"
      ]
     },
     "execution_count": 9,
     "metadata": {},
     "output_type": "execute_result"
    }
   ],
   "source": [
    "yw2.loads(\"\"\"\\\n",
    "# Extra lattice info\n",
    "natoms:  3\n",
    "orbital: p\n",
    "qpoint: [1/2, 0, 0]\"\"\")"
   ]
  },
  {
   "cell_type": "markdown",
   "metadata": {},
   "source": [
    "We can combine the 2 wrappers to process all the information together:"
   ]
  },
  {
   "cell_type": "code",
   "execution_count": 10,
   "metadata": {},
   "outputs": [],
   "source": [
    "yw3 = yw1 + yw2\n",
    "yw3.title = \"All the information\""
   ]
  },
  {
   "cell_type": "code",
   "execution_count": 11,
   "metadata": {
    "scrolled": false
   },
   "outputs": [
    {
     "data": {
      "text/plain": [
       "{'lattice_vector': array([[0. , 0.5, 0.5],\n",
       "        [0.5, 0. , 0.5],\n",
       "        [0.5, 0.5, 0. ]]),\n",
       " 'point_group': 'Oh',\n",
       " 'natoms': 3,\n",
       " 'orbital': 'p',\n",
       " 'qpoint': array([Fraction(1, 2), Fraction(0, 1), Fraction(0, 1)], dtype=object)}"
      ]
     },
     "execution_count": 11,
     "metadata": {},
     "output_type": "execute_result"
    }
   ],
   "source": [
    "data = data1.copy()\n",
    "data.update(data2.copy())\n",
    "data"
   ]
  },
  {
   "cell_type": "code",
   "execution_count": 12,
   "metadata": {},
   "outputs": [
    {
     "name": "stdout",
     "output_type": "stream",
     "text": [
      "# All the information\n",
      "lattice_vector:\n",
      "  [[ 0.00000000,  0.50000000,  0.50000000],\n",
      "   [ 0.50000000,  0.00000000,  0.50000000],\n",
      "   [ 0.50000000,  0.50000000,  0.00000000]]\n",
      "point_group: Oh\n",
      "natoms:  3\n",
      "orbital: p\n",
      "qpoint: [1/2, 0, 0]\n"
     ]
    }
   ],
   "source": [
    "print(yw3.dumps(data))"
   ]
  },
  {
   "cell_type": "code",
   "execution_count": 13,
   "metadata": {},
   "outputs": [
    {
     "data": {
      "text/plain": [
       "OrderedDict([('lattice_vector',\n",
       "              array([[0. , 0.5, 0.5],\n",
       "                     [0.5, 0. , 0.5],\n",
       "                     [0.5, 0.5, 0. ]])),\n",
       "             ('point_group', 'Oh'),\n",
       "             ('natoms', 3),\n",
       "             ('orbital', 'p'),\n",
       "             ('qpoint',\n",
       "              array([Fraction(1, 2), Fraction(0, 1), Fraction(0, 1)], dtype=object))])"
      ]
     },
     "execution_count": 13,
     "metadata": {},
     "output_type": "execute_result"
    }
   ],
   "source": [
    "yw3.loads(yw3.dumps(data))"
   ]
  },
  {
   "cell_type": "markdown",
   "metadata": {},
   "source": [
    "## HDF5Wrapper\n",
    "\n",
    "HDF5 is a popular data format to store large amount of data in a very efficient way.\n",
    "\n",
    "Our wrapper interfaces many of data types that is used in our codes with the supported data types in the default h5py module.\n",
    "\n",
    "It works in the similar way as the YAMLWrapper, while it doesn't support loading from or saving to a text string.\n",
    "But, when using `dump` and `save` methods, instead of providing a path to a HDF5 file, one can provide a h5py file handle so that it's possible to save the data into a subgroup of a HDF5 file."
   ]
  }
 ],
 "metadata": {
  "kernelspec": {
   "display_name": "Python 3 (ipykernel)",
   "language": "python",
   "name": "python3"
  },
  "language_info": {
   "codemirror_mode": {
    "name": "ipython",
    "version": 3
   },
   "file_extension": ".py",
   "mimetype": "text/x-python",
   "name": "python",
   "nbconvert_exporter": "python",
   "pygments_lexer": "ipython3",
   "version": "3.8.8"
  }
 },
 "nbformat": 4,
 "nbformat_minor": 4
}
